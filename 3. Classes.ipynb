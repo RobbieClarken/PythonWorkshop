{
 "metadata": {
  "name": "",
  "signature": "sha256:874e2fec42dc23933d84073258c7c4eaa60f740bac2f6d3d2bb324090ccddcb4"
 },
 "nbformat": 3,
 "nbformat_minor": 0,
 "worksheets": [
  {
   "cells": [
    {
     "cell_type": "heading",
     "level": 1,
     "metadata": {},
     "source": [
      "Classes"
     ]
    },
    {
     "cell_type": "markdown",
     "metadata": {},
     "source": [
      "Python works very well as a functional or object orientated programming language.\n",
      "\n",
      "Classes in Python are defined as follows:"
     ]
    },
    {
     "cell_type": "code",
     "collapsed": false,
     "input": [
      "class Speaker(object):\n",
      "    def say(self, message):\n",
      "        print(message)"
     ],
     "language": "python",
     "metadata": {},
     "outputs": [],
     "prompt_number": 41
    },
    {
     "cell_type": "markdown",
     "metadata": {},
     "source": [
      "You create **instances** of the class as follows:"
     ]
    },
    {
     "cell_type": "code",
     "collapsed": false,
     "input": [
      "alice = Speaker()\n",
      "alice.say('Hello')"
     ],
     "language": "python",
     "metadata": {},
     "outputs": [
      {
       "output_type": "stream",
       "stream": "stdout",
       "text": [
        "Hello\n"
       ]
      }
     ],
     "prompt_number": 42
    },
    {
     "cell_type": "markdown",
     "metadata": {},
     "source": [
      "Functions defined within the class are **instance methods**. The first parameter is the instance of the class and does not\n",
      "need to be supplied when the method is called."
     ]
    },
    {
     "cell_type": "heading",
     "level": 2,
     "metadata": {},
     "source": [
      "Subclassing"
     ]
    },
    {
     "cell_type": "markdown",
     "metadata": {},
     "source": [
      "You can create **subclasses** which inherit all the methods and attributes of another class as follows:"
     ]
    },
    {
     "cell_type": "code",
     "collapsed": false,
     "input": [
      "class Shouter(Speaker):\n",
      "    def say(self, message):\n",
      "        message = message.upper()\n",
      "        super(Shouter, self).say(message)"
     ],
     "language": "python",
     "metadata": {},
     "outputs": [],
     "prompt_number": 43
    },
    {
     "cell_type": "code",
     "collapsed": false,
     "input": [
      "bob = Shouter()\n",
      "bob.say('How are you?')"
     ],
     "language": "python",
     "metadata": {},
     "outputs": [
      {
       "output_type": "stream",
       "stream": "stdout",
       "text": [
        "HOW ARE YOU?\n"
       ]
      }
     ],
     "prompt_number": 44
    },
    {
     "cell_type": "markdown",
     "metadata": {},
     "source": [
      "Here we override the **`say`** method to modify the message and then hand the new message to the parent classes **`say`** method to avoid reimplementing it."
     ]
    },
    {
     "cell_type": "heading",
     "level": 2,
     "metadata": {},
     "source": [
      "Special Methods"
     ]
    },
    {
     "cell_type": "markdown",
     "metadata": {},
     "source": [
      "There are a number of methods that are automatically called on your instances at certain times. These include:\n",
      "\n",
      "* **`__init__`**: called when an instance is being initialised\n",
      "* **`__del__`**: called when an instance is being deleted/garbage collected\n",
      "* **`__str__`**: called when your object is passed to **`str()`** to get an informal string representation (eg for **`print`**)\n",
      "* **`__repr__`**: called by **`repr()`** to get a \"formal\" representation of the instance which ideally could be passed to **`eval()`** to reproduce the instance\n",
      "* **`__cmp__`**: Called when performing comparisons with the **`<`**, **`<=`**, **`>=`**, **`>`**, **`==`** or **`!=`** operators"
     ]
    },
    {
     "cell_type": "code",
     "collapsed": false,
     "input": [
      "from numbers import Number\n",
      "\n",
      "class Vector(object):\n",
      "    def __init__(self, x, y):\n",
      "        if not isinstance(x, Number) or not isinstance(y, Number):\n",
      "            raise TypeError('x and y must be numbers')\n",
      "        self.x = x\n",
      "        self.y = y\n",
      "    \n",
      "    def length(self):\n",
      "        # Use Pythagorean theorem to calculate vector length\n",
      "        return (self.x ** 2 + self.y ** 2) ** .5\n",
      "    \n",
      "    def __str__(self):\n",
      "        return '({0.x}, {0.y})'.format(self)\n",
      "    \n",
      "    def __repr__(self):\n",
      "        return 'Vector({0.x}, {0.y})'.format(self)\n",
      "    \n",
      "    def __cmp__(self, other):\n",
      "        \"\"\"\n",
      "        Should return:\n",
      "          * a negative number if self < other\n",
      "          * zero if self == other\n",
      "          * a positive number if self > other\n",
      "        \"\"\"\n",
      "        return self.length() - other.length()\n",
      "    \n",
      "    def __add__(self, other):\n",
      "        if not isinstance(other, Vector):\n",
      "            raise TypeError('Cannot add {!r} and {!r}'.format(self, other))\n",
      "        return Vector(self.x + other.x, self.y + other.y)\n",
      "    \n",
      "    def __sub__(self, other):\n",
      "        return Vector(self.x - other.x, self.y - other.y)\n",
      "    \n",
      "    def __mul__(self, other):\n",
      "        return Vector(other * self.x, other * self.y)\n",
      "    \n",
      "    def __rmul__(self, other):\n",
      "        return self * other"
     ],
     "language": "python",
     "metadata": {},
     "outputs": [],
     "prompt_number": 45
    },
    {
     "cell_type": "code",
     "collapsed": false,
     "input": [
      "v1 = Vector(3, 4)\n",
      "v2 = Vector(5, 10)\n",
      "print 'str(v1)  =', str(v1)\n",
      "print 'repr(v1) =', repr(v1)\n",
      "print 'v1 < v2  =', v1 < v2\n",
      "print 'v1 + v2  =', v1 + v2"
     ],
     "language": "python",
     "metadata": {},
     "outputs": [
      {
       "output_type": "stream",
       "stream": "stdout",
       "text": [
        "str(v1)  = (3, 4)\n",
        "repr(v1) = Vector(3, 4)\n",
        "v1 < v2  = True\n",
        "v1 + v2  = (8, 14)\n"
       ]
      }
     ],
     "prompt_number": 46
    },
    {
     "cell_type": "code",
     "collapsed": false,
     "input": [
      "v1 - 1"
     ],
     "language": "python",
     "metadata": {},
     "outputs": [
      {
       "ename": "AttributeError",
       "evalue": "'int' object has no attribute 'x'",
       "output_type": "pyerr",
       "traceback": [
        "\u001b[0;31m---------------------------------------------------------------------------\u001b[0m\n\u001b[0;31mAttributeError\u001b[0m                            Traceback (most recent call last)",
        "\u001b[0;32m<ipython-input-47-e096e46bb288>\u001b[0m in \u001b[0;36m<module>\u001b[0;34m()\u001b[0m\n\u001b[0;32m----> 1\u001b[0;31m \u001b[0mv1\u001b[0m \u001b[0;34m-\u001b[0m \u001b[0;36m1\u001b[0m\u001b[0;34m\u001b[0m\u001b[0m\n\u001b[0m",
        "\u001b[0;32m<ipython-input-45-6abdc89faee0>\u001b[0m in \u001b[0;36m__sub__\u001b[0;34m(self, other)\u001b[0m\n\u001b[1;32m     33\u001b[0m \u001b[0;34m\u001b[0m\u001b[0m\n\u001b[1;32m     34\u001b[0m     \u001b[0;32mdef\u001b[0m \u001b[0m__sub__\u001b[0m\u001b[0;34m(\u001b[0m\u001b[0mself\u001b[0m\u001b[0;34m,\u001b[0m \u001b[0mother\u001b[0m\u001b[0;34m)\u001b[0m\u001b[0;34m:\u001b[0m\u001b[0;34m\u001b[0m\u001b[0m\n\u001b[0;32m---> 35\u001b[0;31m         \u001b[0;32mreturn\u001b[0m \u001b[0mVector\u001b[0m\u001b[0;34m(\u001b[0m\u001b[0mself\u001b[0m\u001b[0;34m.\u001b[0m\u001b[0mx\u001b[0m \u001b[0;34m-\u001b[0m \u001b[0mother\u001b[0m\u001b[0;34m.\u001b[0m\u001b[0mx\u001b[0m\u001b[0;34m,\u001b[0m \u001b[0mself\u001b[0m\u001b[0;34m.\u001b[0m\u001b[0my\u001b[0m \u001b[0;34m-\u001b[0m \u001b[0mother\u001b[0m\u001b[0;34m.\u001b[0m\u001b[0my\u001b[0m\u001b[0;34m)\u001b[0m\u001b[0;34m\u001b[0m\u001b[0m\n\u001b[0m\u001b[1;32m     36\u001b[0m \u001b[0;34m\u001b[0m\u001b[0m\n\u001b[1;32m     37\u001b[0m     \u001b[0;32mdef\u001b[0m \u001b[0m__mul__\u001b[0m\u001b[0;34m(\u001b[0m\u001b[0mself\u001b[0m\u001b[0;34m,\u001b[0m \u001b[0mother\u001b[0m\u001b[0;34m)\u001b[0m\u001b[0;34m:\u001b[0m\u001b[0;34m\u001b[0m\u001b[0m\n",
        "\u001b[0;31mAttributeError\u001b[0m: 'int' object has no attribute 'x'"
       ]
      }
     ],
     "prompt_number": 47
    },
    {
     "cell_type": "heading",
     "level": 2,
     "metadata": {},
     "source": [
      "Setters and Getters"
     ]
    },
    {
     "cell_type": "markdown",
     "metadata": {},
     "source": [
      "Sometimes you may want code to run whenever you set or get a value of an attribute. For example, perhaps the attribute is a calculated property rather than being stored by value. Or perhaps you need to validate the value to be set is allowed.\n",
      "\n",
      "You can do this by making the attribute a **`property`**:"
     ]
    },
    {
     "cell_type": "code",
     "collapsed": false,
     "input": [
      "import epics\n",
      "\n",
      "class Motor(object):\n",
      "    @property\n",
      "    def position(self):\n",
      "        print('Getting position...')\n",
      "        return epics.caget('PYTHON_WORKSHOP:MOTOR_POSITION')\n",
      "    \n",
      "    @position.setter\n",
      "    def position(self, value):\n",
      "        print('Setting position...')\n",
      "        if value < 0 or value > 20:\n",
      "            raise ValueError('position must be between 0 and 20.')\n",
      "        epics.caput('PYTHON_WORKSHOP:MOTOR_POSITION', value)"
     ],
     "language": "python",
     "metadata": {},
     "outputs": []
    },
    {
     "cell_type": "code",
     "collapsed": false,
     "input": [
      "motor = Motor()\n",
      "print(motor.position)"
     ],
     "language": "python",
     "metadata": {},
     "outputs": []
    },
    {
     "cell_type": "code",
     "collapsed": false,
     "input": [
      "motor.position = 1000"
     ],
     "language": "python",
     "metadata": {},
     "outputs": []
    },
    {
     "cell_type": "code",
     "collapsed": false,
     "input": [
      "motor.position = 12.345"
     ],
     "language": "python",
     "metadata": {},
     "outputs": []
    },
    {
     "cell_type": "code",
     "collapsed": false,
     "input": [
      "epics.caget('PYTHON_WORKSHOP:MOTOR_POSITION')"
     ],
     "language": "python",
     "metadata": {},
     "outputs": []
    },
    {
     "cell_type": "heading",
     "level": 2,
     "metadata": {},
     "source": [
      "Class Methods"
     ]
    },
    {
     "cell_type": "markdown",
     "metadata": {},
     "source": [
      "Class methods are functions you call on a class rather than an instance of that class.\n",
      "\n",
      "The syntax looks almost the same as a instance method but you apply the **`@classmethod`**. The first argument will be the class rather than an instance of the class. By convention we label this argument **`cls`**.\n",
      "\n",
      "One use case is if you want to have multiple constructors:"
     ]
    },
    {
     "cell_type": "code",
     "collapsed": false,
     "input": [
      "from math import sqrt, pi\n",
      "\n",
      "class Circle(object):\n",
      "    def __init__(self, radius):\n",
      "        self.radius = radius\n",
      "        \n",
      "    def __repr__(self):\n",
      "        return 'Circle({!r})'.format(self.radius)\n",
      "        \n",
      "    @classmethod\n",
      "    def fromDiameter(cls, diameter):\n",
      "        return cls(radius=diameter/2.)\n",
      "    \n",
      "    @classmethod\n",
      "    def fromArea(cls, area):\n",
      "        radius = sqrt(area / pi)\n",
      "        return cls(radius)\n",
      "    \n",
      "    @classmethod\n",
      "    def fromCircumference(cls, circumference):\n",
      "        return cls(radius=circumference / (2. * pi))"
     ],
     "language": "python",
     "metadata": {},
     "outputs": []
    },
    {
     "cell_type": "code",
     "collapsed": false,
     "input": [
      "print Circle(1.)\n",
      "print Circle.fromDiameter(10.)\n",
      "print Circle.fromArea(23.)\n",
      "print Circle.fromCircumference(8.)"
     ],
     "language": "python",
     "metadata": {},
     "outputs": []
    },
    {
     "cell_type": "markdown",
     "metadata": {},
     "source": [
      "<h1>Continue to [Iterators and Generators](/notebooks/4.%20Iterators%20and%20Generators.ipynb).</h1>"
     ]
    },
    {
     "cell_type": "code",
     "collapsed": false,
     "input": [],
     "language": "python",
     "metadata": {},
     "outputs": []
    }
   ],
   "metadata": {}
  }
 ]
}