{
 "metadata": {
  "name": "",
  "signature": "sha256:cdcd67fcd6f1e8aa6f0af8a494342b064f0ea92693a53ec948a45be82cbbde9d"
 },
 "nbformat": 3,
 "nbformat_minor": 0,
 "worksheets": [
  {
   "cells": [
    {
     "cell_type": "heading",
     "level": 1,
     "metadata": {},
     "source": [
      "Decorators"
     ]
    },
    {
     "cell_type": "markdown",
     "metadata": {},
     "source": [
      "Decorators provide a convenient way to add extra functionality to a function by wrapping it inside another function.\n",
      "\n",
      "Here is a simple decorator which adds a bit of logging before and after calling a function:"
     ]
    },
    {
     "cell_type": "code",
     "collapsed": false,
     "input": [
      "def logger(func):\n",
      "\n",
      "    def wrapper(*args, **kwargs):\n",
      "        \n",
      "        print 'Calling:', func.__name__, 'with args =', args, 'and kwargs =', kwargs\n",
      "        \n",
      "        result = func(*args, **kwargs)\n",
      "        \n",
      "        print 'Result:', result\n",
      "        \n",
      "        return result\n",
      "\n",
      "    return wrapper"
     ],
     "language": "python",
     "metadata": {},
     "outputs": []
    },
    {
     "cell_type": "markdown",
     "metadata": {},
     "source": [
      "One way to apply the decorator is to just call it, passing in the function to be decorated:"
     ]
    },
    {
     "cell_type": "code",
     "collapsed": false,
     "input": [
      "# A function we wish to be decorated:\n",
      "def add(x, y):\n",
      "    return x + y\n",
      "\n",
      "# Decorate the function\n",
      "add = logger(add)\n",
      "\n",
      "# Call the decorated function\n",
      "add(1, 2)"
     ],
     "language": "python",
     "metadata": {},
     "outputs": []
    },
    {
     "cell_type": "markdown",
     "metadata": {},
     "source": [
      "Python provides a more convenient way of decorating functions as follows:"
     ]
    },
    {
     "cell_type": "code",
     "collapsed": false,
     "input": [
      "@logger\n",
      "def multiply(x, y):\n",
      "    return x * y"
     ],
     "language": "python",
     "metadata": {},
     "outputs": []
    },
    {
     "cell_type": "code",
     "collapsed": false,
     "input": [
      "multiply(3, y=6)"
     ],
     "language": "python",
     "metadata": {},
     "outputs": []
    },
    {
     "cell_type": "heading",
     "level": 2,
     "metadata": {},
     "source": [
      "Examples"
     ]
    },
    {
     "cell_type": "markdown",
     "metadata": {},
     "source": [
      "Generators allow some pretty crazy things like inventing new syntax:"
     ]
    },
    {
     "cell_type": "code",
     "collapsed": false,
     "input": [
      "from contextlib import contextmanager\n",
      "\n",
      "@contextmanager\n",
      "def example():\n",
      "    some_resource = object()\n",
      "    try:\n",
      "        yield some_resource\n",
      "    finally:\n",
      "        print 'Cleaning up...'\n",
      "        del some_resource"
     ],
     "language": "python",
     "metadata": {},
     "outputs": []
    },
    {
     "cell_type": "code",
     "collapsed": false,
     "input": [
      "with example() as x:\n",
      "    print 'Doing stuff with', x"
     ],
     "language": "python",
     "metadata": {},
     "outputs": []
    },
    {
     "cell_type": "markdown",
     "metadata": {},
     "source": [
      "Or making functions interactive in IPython!"
     ]
    },
    {
     "cell_type": "code",
     "collapsed": false,
     "input": [
      "from IPython.html.widgets import interact\n",
      "\n",
      "@interact(message='Hello', repeat=3, debug=True)\n",
      "def wow(message, repeat, debug):\n",
      "    \n",
      "    if debug:\n",
      "        print 'Here we go...'    \n",
      "        \n",
      "    for i in range(repeat):\n",
      "        print i, message"
     ],
     "language": "python",
     "metadata": {},
     "outputs": []
    },
    {
     "cell_type": "code",
     "collapsed": false,
     "input": [
      "import matplotlib.pyplot as plt\n",
      "%matplotlib inline\n",
      "import matplotlib.image\n",
      "import numpy as np\n",
      "\n",
      "image = matplotlib.image.imread('files/kents_rainbow.jpg').astype(np.float32) / 255.\n",
      "\n",
      "@interact\n",
      "def plot(red=1., green=1., blue=1.):\n",
      "    plt.figure(figsize=(16, 6))\n",
      "    im = (image * np.array([red, green, blue])).clip(0, 1)\n",
      "    plt.imshow(im)"
     ],
     "language": "python",
     "metadata": {},
     "outputs": []
    },
    {
     "cell_type": "code",
     "collapsed": false,
     "input": [
      "from flask import Flask, request\n",
      "app = Flask(__name__)\n",
      "\n",
      "@app.route('/')\n",
      "def home():\n",
      "    return ('<h1>You have reached the home page!</h1>'\n",
      "            '<form action=\"login\" method=\"POST\">'\n",
      "            'Username: <input name=\"user\"><br>'\n",
      "            'Password: <input name=\"password\" type=\"password\"><br>'\n",
      "            '<input type=\"submit\"></form>')\n",
      "\n",
      "@app.route(\"/login\", methods=['POST'])\n",
      "def login():\n",
      "    if request.form.get('user') == 'guest' and request.form.get('password') == 'secret':\n",
      "        return '<h1>Welcome in!</h1>'\n",
      "    else:\n",
      "        return '<h1>Sorry, invalid login.</h1>'\n",
      "\n",
      "app.run(port=5000) # Site available at http://localhost:5000"
     ],
     "language": "python",
     "metadata": {},
     "outputs": []
    },
    {
     "cell_type": "markdown",
     "metadata": {},
     "source": [
      "<h1>Continue to [Threads and Processes](/notebooks/6.%20Threads%20and%20Processes.ipynb)</h1>"
     ]
    },
    {
     "cell_type": "code",
     "collapsed": false,
     "input": [],
     "language": "python",
     "metadata": {},
     "outputs": []
    }
   ],
   "metadata": {}
  }
 ]
}