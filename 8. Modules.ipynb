{
 "metadata": {
  "name": "",
  "signature": "sha256:36a4d1809a49aa6f829ca5c2c6495b0dcc794b8530a2126d9c286854cbd1f106"
 },
 "nbformat": 3,
 "nbformat_minor": 0,
 "worksheets": [
  {
   "cells": [
    {
     "cell_type": "heading",
     "level": 1,
     "metadata": {},
     "source": [
      "Modules"
     ]
    },
    {
     "cell_type": "markdown",
     "metadata": {},
     "source": [
      "Python is described as having a \"batteries included\" philosophy meaning it comes with a huge standard library. This allows you to do most things out of the box and with minimal code.\n",
      "\n",
      "For example, if you wanted to create a basic web server you can make use of the **`SocketServer`** and **`SimpleHTTPServer`** libraries:"
     ]
    },
    {
     "cell_type": "code",
     "collapsed": false,
     "input": [
      "import SocketServer\n",
      "from SimpleHTTPServer import SimpleHTTPRequestHandler\n",
      "\n",
      "PORT = 8000\n",
      "httpd = SocketServer.TCPServer((\"localhost\", PORT), SimpleHTTPRequestHandler)\n",
      "\n",
      "print \"serving at port\", PORT\n",
      "httpd.serve_forever()"
     ],
     "language": "python",
     "metadata": {},
     "outputs": [
      {
       "output_type": "stream",
       "stream": "stdout",
       "text": [
        "serving at port 8000\n"
       ]
      }
     ],
     "prompt_number": 1
    },
    {
     "cell_type": "markdown",
     "metadata": {},
     "source": [
      "As you write your own programs you will want to seperate them off into self contained components so they are easier to maintain and can be re-used in more than one program. To do this you create **modules** and **packages**.\n",
      "\n",
      "A python module is a single **`.py`** file such as the **`insertion_device.py`** file in the same folder as this Notebook.\n",
      "\n",
      "You can import this module into another script with:\n",
      "\n",
      "```python\n",
      "import insertion_device\n",
      "```\n",
      "\n",
      "The variables, functions and classes defined inside the module file will then be available under the **`insertion_device`** variable:"
     ]
    },
    {
     "cell_type": "code",
     "collapsed": false,
     "input": [
      "import insertion_device\n",
      "\n",
      "print insertion_device.__version__\n",
      "print insertion_device.InsertionDevice"
     ],
     "language": "python",
     "metadata": {},
     "outputs": [
      {
       "output_type": "stream",
       "stream": "stdout",
       "text": [
        "0.1.0\n",
        "<class 'insertion_device.InsertionDevice'>\n"
       ]
      }
     ],
     "prompt_number": 4
    },
    {
     "cell_type": "markdown",
     "metadata": {},
     "source": [
      "The module must be in the same directory as the script you are importing it into or in one of the directories in **`sys.path`**:\n",
      "\n",
      "```python\n",
      "import sys\n",
      "print sys.path\n",
      "['', '/usr/local/lib/python2.7/site-packages', '/usr/local/lib/python2.7/site-packages/IPython/extensions']\n",
      "```\n",
      "\n",
      "You can add extra directories to this variable to make Python look in other locations for modules:\n",
      "\n",
      "```python\n",
      "sys.path.append('/home/robbie/python_scripts')\n",
      "```"
     ]
    },
    {
     "cell_type": "heading",
     "level": 1,
     "metadata": {},
     "source": [
      "Packages"
     ]
    },
    {
     "cell_type": "markdown",
     "metadata": {},
     "source": [
      "A package is simply a collection of modules in a folder. The folder must contain a file named **`__init__.py`**. This is to prevent regular folders in the same directory as a script from being mistaken for a package and blocking the import of a library with the same name (ie you can have a folder called \"epics\" and still import the **`epics`** library)."
     ]
    },
    {
     "cell_type": "markdown",
     "metadata": {},
     "source": [
      "Included in this working directory is a package called **`tutorialtools`**. You can see it has a module called **`example.py`**:"
     ]
    },
    {
     "cell_type": "code",
     "collapsed": false,
     "input": [
      "!tree tutorialtools"
     ],
     "language": "python",
     "metadata": {},
     "outputs": [
      {
       "output_type": "stream",
       "stream": "stdout",
       "text": [
        "tutorialtools\r\n",
        "\u251c\u2500\u2500 __init__.py\r\n",
        "\u2514\u2500\u2500 example.py\r\n",
        "\r\n",
        "0 directories, 2 files\r\n"
       ]
      }
     ],
     "prompt_number": 11
    },
    {
     "cell_type": "markdown",
     "metadata": {},
     "source": [
      "We could import this module like so:"
     ]
    },
    {
     "cell_type": "code",
     "collapsed": false,
     "input": [
      "from tutorialtools import example\n",
      "\n",
      "example.hello()"
     ],
     "language": "python",
     "metadata": {},
     "outputs": [
      {
       "output_type": "stream",
       "stream": "stdout",
       "text": [
        "Hello World\n"
       ]
      }
     ],
     "prompt_number": 11
    },
    {
     "cell_type": "markdown",
     "metadata": {},
     "source": [
      "But often it is preferable to just be able to import the package and have access to classes and functions defined within. You can do this by importing those objects into the **`__init__.py`** module:"
     ]
    },
    {
     "cell_type": "code",
     "collapsed": false,
     "input": [
      "!cat tutorialtools/__init__.py"
     ],
     "language": "python",
     "metadata": {},
     "outputs": [
      {
       "output_type": "stream",
       "stream": "stdout",
       "text": [
        "\"\"\" An example package.  \"\"\"\r\n",
        "\r\n",
        "__version__ = 0.1.0\r\n",
        "\r\n",
        "from .example import hello\r\n"
       ]
      }
     ],
     "prompt_number": 12
    },
    {
     "cell_type": "code",
     "collapsed": false,
     "input": [
      "import tutorialtools\n",
      "\n",
      "tutorialtools.hello()"
     ],
     "language": "python",
     "metadata": {},
     "outputs": [
      {
       "output_type": "stream",
       "stream": "stdout",
       "text": [
        "Hello World\n"
       ]
      }
     ],
     "prompt_number": 1
    },
    {
     "cell_type": "heading",
     "level": 1,
     "metadata": {},
     "source": [
      "Distributing"
     ]
    },
    {
     "cell_type": "markdown",
     "metadata": {},
     "source": [
      "When distributing your library you should create a **`setup.py`** file that looks like this:\n",
      "\n",
      "```python\n",
      "from setuptools import setup\n",
      "\n",
      "setup(\n",
      "    name='tutorialtools',\n",
      "    version='0.1.0',\n",
      "    description='An example package for our Python workshop',\n",
      "    author='Robbie Clarken',\n",
      "    packages=['tutorialtools'],\n",
      ")\n",
      "```\n",
      "\n",
      "You can then install your package by running **`python setup.py`** from the command line. This will copy it into a standard location (`/usr/local/lib/python2.7/site-packages/`) that will allow it to be imported into any program that needs it."
     ]
    },
    {
     "cell_type": "heading",
     "level": 1,
     "metadata": {},
     "source": [
      "3rd Party Libraries"
     ]
    },
    {
     "cell_type": "heading",
     "level": 2,
     "metadata": {},
     "source": [
      "pip"
     ]
    },
    {
     "cell_type": "markdown",
     "metadata": {},
     "source": [
      "To install 3rd party libaries like **pyepics** use the **[pip](https://pip.pypa.io/en/latest/installing.html)** tool:\n",
      "\n",
      "```bash\n",
      "pip install pyepics\n",
      "```"
     ]
    },
    {
     "cell_type": "heading",
     "level": 2,
     "metadata": {},
     "source": [
      "virtualenv"
     ]
    },
    {
     "cell_type": "markdown",
     "metadata": {},
     "source": [
      "Something to be wary of is if you install everything to the common `site-packages` and different programs rely on the same packages, updating those packages can become dangerous. You would need to test each program that depends on the package to make sure it still works.\n",
      "\n",
      "A solution to this is the **[virtualenv](https://virtualenv.pypa.io/en/latest/)** tool. It allows you to create an isolated environment for each program where you can install packages without affecting anything else on the system.\n",
      "\n",
      "To create a virtual environment run:\n",
      "\n",
      "```bash\n",
      "virtualenv .venv\n",
      "```\n",
      "\n",
      "This creates a folder called **`.venv`** which contains a **`bin`** and **`lib`** folder. Inside the **`bin`** folder is a bash script that if you source will modify your bash environment so that python installs packages into **`.venv/lib/site-packages`**:\n",
      "\n",
      "```\n",
      "$ source .venv/bin/activate\n",
      "(.venv)$ pip install pyepics\n",
      "(.venv)$ ll .venv/lib/python2.7/site-packages/\n",
      "  drwxr-xr-x  32 robbie  staff    1088  5 Feb 11:34 epics\n",
      "  drwxr-xr-x  38 robbie  staff    1292  5 Feb 11:27 pip\n",
      "  drwxr-xr-x  48 robbie  staff    1632  5 Feb 11:27 setuptools\n",
      "```\n",
      "\n",
      "Any python script you run after activating the environment will look in the `site-packages` folder of your virtual environment rather than in the system `site-packages` directory."
     ]
    },
    {
     "cell_type": "code",
     "collapsed": false,
     "input": [],
     "language": "python",
     "metadata": {},
     "outputs": []
    }
   ],
   "metadata": {}
  }
 ]
}