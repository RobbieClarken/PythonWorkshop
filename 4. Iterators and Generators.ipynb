{
 "metadata": {
  "name": "",
  "signature": "sha256:93988ff65cf6bf009166237308f0714e09dcafa5cd7eaa710fd8a0ebad860ee8"
 },
 "nbformat": 3,
 "nbformat_minor": 0,
 "worksheets": [
  {
   "cells": [
    {
     "cell_type": "heading",
     "level": 1,
     "metadata": {},
     "source": [
      "Iterators"
     ]
    },
    {
     "cell_type": "markdown",
     "metadata": {},
     "source": [
      "An iterator is an object with a special method called **`next()`** (or **`__next__()`** in Python 3) which is used to\n",
      "produce a sequence of values. The humble **`for`** loop produces an iterator calls **`next()`** on it each iteration of the\n",
      "loop.\n",
      "\n",
      "Similarly, functions like **`list()`** and **`zip()`** all make use of the **`next()`** method to fetch sequences.\n",
      "\n",
      "When the **`for`** loop initiates it will first call the **`__iter__()`** on the supplied object and then call **`next()`** on the returned object at the start of each loop.\n",
      "\n",
      "We can observe this behaviour by producing an iterator from a list:"
     ]
    },
    {
     "cell_type": "code",
     "collapsed": false,
     "input": [
      "colours = ['red', 'green', 'blue']\n",
      "colour_iter = iter(colours)\n",
      "print 'The iter object =', colour_iter\n",
      "print '(1)', next(colour_iter)\n",
      "print '(2)', next(colour_iter)\n",
      "print '(3)', next(colour_iter)\n",
      "#print '(4)', next(colour_iter)"
     ],
     "language": "python",
     "metadata": {},
     "outputs": [
      {
       "output_type": "stream",
       "stream": "stdout",
       "text": [
        "The iter object = <listiterator object at 0x108426cd0>\n",
        "(1) red\n",
        "(2) green\n",
        "(3) blue\n"
       ]
      }
     ],
     "prompt_number": 3
    },
    {
     "cell_type": "markdown",
     "metadata": {},
     "source": [
      "**`file`** objects also support iteration:"
     ]
    },
    {
     "cell_type": "code",
     "collapsed": false,
     "input": [
      "f = open('files/iteration.txt')\n",
      "print '(1)', next(f)\n",
      "print '(2)', next(f)\n",
      "print '(3)', next(f)\n",
      "f.close()"
     ],
     "language": "python",
     "metadata": {},
     "outputs": [
      {
       "output_type": "stream",
       "stream": "stdout",
       "text": [
        "(1) First line.\n",
        "\n",
        "(2) Second line.\n",
        "\n",
        "(3) Third line.\n",
        "\n"
       ]
      }
     ],
     "prompt_number": 4
    },
    {
     "cell_type": "markdown",
     "metadata": {},
     "source": [
      "This allows you to loop over the lines in a file or use them in any function that takes an iterable:"
     ]
    },
    {
     "cell_type": "code",
     "collapsed": false,
     "input": [
      "f = open('files/iteration.txt')\n",
      "\n",
      "print zip(colours, f)\n",
      "\n",
      "f.close()"
     ],
     "language": "python",
     "metadata": {},
     "outputs": [
      {
       "output_type": "stream",
       "stream": "stdout",
       "text": [
        "[('red', 'First line.\\n'), ('green', 'Second line.\\n'), ('blue', 'Third line.\\n')]\n"
       ]
      }
     ],
     "prompt_number": 5
    },
    {
     "cell_type": "markdown",
     "metadata": {},
     "source": [
      "To create your own iterable you can create a class that implements the **`__iter__()`** and **`next()`** methods:"
     ]
    },
    {
     "cell_type": "code",
     "collapsed": false,
     "input": [
      "import random\n",
      "\n",
      "class RandomIterator(object):\n",
      "    \n",
      "    def __iter__(self):\n",
      "        return self\n",
      "    \n",
      "    def next(self):                     # __next__ in Python 3\n",
      "        value = random.randint(0, 10)\n",
      "        if value == 0:\n",
      "            raise StopIteration\n",
      "        return value"
     ],
     "language": "python",
     "metadata": {},
     "outputs": [],
     "prompt_number": 6
    },
    {
     "cell_type": "code",
     "collapsed": false,
     "input": [
      "it = RandomIterator()\n",
      "for i in it:\n",
      "    print i"
     ],
     "language": "python",
     "metadata": {},
     "outputs": [
      {
       "output_type": "stream",
       "stream": "stdout",
       "text": [
        "9\n",
        "1\n",
        "3\n",
        "8\n",
        "3\n",
        "9\n"
       ]
      }
     ],
     "prompt_number": 38
    },
    {
     "cell_type": "markdown",
     "metadata": {},
     "source": [
      "Alternatively you can make a Generator functions..."
     ]
    },
    {
     "cell_type": "heading",
     "level": 1,
     "metadata": {},
     "source": [
      "Generators"
     ]
    },
    {
     "cell_type": "markdown",
     "metadata": {},
     "source": [
      "A generator is a strange object that is returned by any function which includes a **`yield`** statement:"
     ]
    },
    {
     "cell_type": "code",
     "collapsed": false,
     "input": [
      "def example_generator():\n",
      "    \n",
      "    print '==== before the first yield ===='\n",
      "    \n",
      "    yield 'something'\n",
      "    \n",
      "    print '==== after the first yield ===='\n",
      "    \n",
      "    yield 'something else'\n",
      "    \n",
      "    print '==== the end ===='"
     ],
     "language": "python",
     "metadata": {},
     "outputs": [],
     "prompt_number": 14
    },
    {
     "cell_type": "code",
     "collapsed": false,
     "input": [
      "gen = example_generator()\n",
      "print gen"
     ],
     "language": "python",
     "metadata": {},
     "outputs": [
      {
       "output_type": "stream",
       "stream": "stdout",
       "text": [
        "<generator object example_generator at 0x108420c80>\n"
       ]
      }
     ],
     "prompt_number": 15
    },
    {
     "cell_type": "code",
     "collapsed": false,
     "input": [
      "next(gen)"
     ],
     "language": "python",
     "metadata": {},
     "outputs": [
      {
       "output_type": "stream",
       "stream": "stdout",
       "text": [
        "==== before the first yield ====\n"
       ]
      },
      {
       "metadata": {},
       "output_type": "pyout",
       "prompt_number": 16,
       "text": [
        "'something'"
       ]
      }
     ],
     "prompt_number": 16
    },
    {
     "cell_type": "code",
     "collapsed": false,
     "input": [
      "next(gen)"
     ],
     "language": "python",
     "metadata": {},
     "outputs": [
      {
       "output_type": "stream",
       "stream": "stdout",
       "text": [
        "==== after the first yield ====\n"
       ]
      },
      {
       "metadata": {},
       "output_type": "pyout",
       "prompt_number": 17,
       "text": [
        "'something else'"
       ]
      }
     ],
     "prompt_number": 17
    },
    {
     "cell_type": "code",
     "collapsed": false,
     "input": [
      "next(gen)"
     ],
     "language": "python",
     "metadata": {},
     "outputs": [
      {
       "output_type": "stream",
       "stream": "stdout",
       "text": [
        "==== the end ====\n"
       ]
      },
      {
       "ename": "StopIteration",
       "evalue": "",
       "output_type": "pyerr",
       "traceback": [
        "\u001b[0;31m---------------------------------------------------------------------------\u001b[0m\n\u001b[0;31mStopIteration\u001b[0m                             Traceback (most recent call last)",
        "\u001b[0;32m<ipython-input-18-8a6233884a6c>\u001b[0m in \u001b[0;36m<module>\u001b[0;34m()\u001b[0m\n\u001b[0;32m----> 1\u001b[0;31m \u001b[0mnext\u001b[0m\u001b[0;34m(\u001b[0m\u001b[0mgen\u001b[0m\u001b[0;34m)\u001b[0m\u001b[0;34m\u001b[0m\u001b[0m\n\u001b[0m",
        "\u001b[0;31mStopIteration\u001b[0m: "
       ]
      }
     ],
     "prompt_number": 18
    },
    {
     "cell_type": "code",
     "collapsed": false,
     "input": [
      "def example_generator():\n",
      "    yield 'first'\n",
      "    yield 'second'\n",
      "    yield 'third'\n",
      "\n",
      "for value in example_generator():\n",
      "    print value"
     ],
     "language": "python",
     "metadata": {},
     "outputs": [
      {
       "output_type": "stream",
       "stream": "stdout",
       "text": [
        "first\n",
        "second\n",
        "third\n"
       ]
      }
     ],
     "prompt_number": 19
    },
    {
     "cell_type": "code",
     "collapsed": false,
     "input": [
      "import random\n",
      "import time\n",
      "\n",
      "def random_number_generator(n):\n",
      "    while True:\n",
      "        yield random.randint(0, n)"
     ],
     "language": "python",
     "metadata": {},
     "outputs": [],
     "prompt_number": 20
    },
    {
     "cell_type": "code",
     "collapsed": false,
     "input": [
      "for value in random_number_generator(10):\n",
      "    print value,\n",
      "    time.sleep(.5)"
     ],
     "language": "python",
     "metadata": {},
     "outputs": [
      {
       "output_type": "stream",
       "stream": "stdout",
       "text": [
        "1 "
       ]
      },
      {
       "output_type": "stream",
       "stream": "stdout",
       "text": [
        "6 "
       ]
      },
      {
       "output_type": "stream",
       "stream": "stdout",
       "text": [
        "5 "
       ]
      },
      {
       "output_type": "stream",
       "stream": "stdout",
       "text": [
        "8 "
       ]
      },
      {
       "output_type": "stream",
       "stream": "stdout",
       "text": [
        "4 "
       ]
      },
      {
       "output_type": "stream",
       "stream": "stdout",
       "text": [
        "1 "
       ]
      },
      {
       "output_type": "stream",
       "stream": "stdout",
       "text": [
        "2 "
       ]
      },
      {
       "output_type": "stream",
       "stream": "stdout",
       "text": [
        "6 "
       ]
      },
      {
       "output_type": "stream",
       "stream": "stdout",
       "text": [
        "1 "
       ]
      },
      {
       "output_type": "stream",
       "stream": "stdout",
       "text": [
        "8 "
       ]
      },
      {
       "output_type": "stream",
       "stream": "stdout",
       "text": [
        "1 "
       ]
      },
      {
       "output_type": "stream",
       "stream": "stdout",
       "text": [
        "7"
       ]
      },
      {
       "ename": "KeyboardInterrupt",
       "evalue": "",
       "output_type": "pyerr",
       "traceback": [
        "\u001b[0;31m---------------------------------------------------------------------------\u001b[0m\n\u001b[0;31mKeyboardInterrupt\u001b[0m                         Traceback (most recent call last)",
        "\u001b[0;32m<ipython-input-39-3620e805080e>\u001b[0m in \u001b[0;36m<module>\u001b[0;34m()\u001b[0m\n\u001b[1;32m      1\u001b[0m \u001b[0;32mfor\u001b[0m \u001b[0mvalue\u001b[0m \u001b[0;32min\u001b[0m \u001b[0mrandom_number_generator\u001b[0m\u001b[0;34m(\u001b[0m\u001b[0;36m10\u001b[0m\u001b[0;34m)\u001b[0m\u001b[0;34m:\u001b[0m\u001b[0;34m\u001b[0m\u001b[0m\n\u001b[1;32m      2\u001b[0m     \u001b[0;32mprint\u001b[0m \u001b[0mvalue\u001b[0m\u001b[0;34m,\u001b[0m\u001b[0;34m\u001b[0m\u001b[0m\n\u001b[0;32m----> 3\u001b[0;31m     \u001b[0mtime\u001b[0m\u001b[0;34m.\u001b[0m\u001b[0msleep\u001b[0m\u001b[0;34m(\u001b[0m\u001b[0;36m.5\u001b[0m\u001b[0;34m)\u001b[0m\u001b[0;34m\u001b[0m\u001b[0m\n\u001b[0m",
        "\u001b[0;31mKeyboardInterrupt\u001b[0m: "
       ]
      }
     ],
     "prompt_number": 39
    },
    {
     "cell_type": "markdown",
     "metadata": {},
     "source": [
      "or Fibonnaci numbers:"
     ]
    },
    {
     "cell_type": "code",
     "collapsed": false,
     "input": [
      "def fibonaci():\n",
      "    fib_n_sub_1 = 0\n",
      "    fib_n = 1\n",
      "    while True:\n",
      "        yield fib_n\n",
      "        fib_n, fib_n_sub_1 = fib_n + fib_n_sub_1, fib_n"
     ],
     "language": "python",
     "metadata": {},
     "outputs": [],
     "prompt_number": 26
    },
    {
     "cell_type": "code",
     "collapsed": false,
     "input": [
      "for num in fibonaci():\n",
      "    print num,\n",
      "    time.sleep(.5)"
     ],
     "language": "python",
     "metadata": {},
     "outputs": [
      {
       "output_type": "stream",
       "stream": "stdout",
       "text": [
        "1 "
       ]
      },
      {
       "output_type": "stream",
       "stream": "stdout",
       "text": [
        "1 "
       ]
      },
      {
       "output_type": "stream",
       "stream": "stdout",
       "text": [
        "2 "
       ]
      },
      {
       "output_type": "stream",
       "stream": "stdout",
       "text": [
        "3 "
       ]
      },
      {
       "output_type": "stream",
       "stream": "stdout",
       "text": [
        "5 "
       ]
      },
      {
       "output_type": "stream",
       "stream": "stdout",
       "text": [
        "8 "
       ]
      },
      {
       "output_type": "stream",
       "stream": "stdout",
       "text": [
        "13 "
       ]
      },
      {
       "output_type": "stream",
       "stream": "stdout",
       "text": [
        "21 "
       ]
      },
      {
       "output_type": "stream",
       "stream": "stdout",
       "text": [
        "34 "
       ]
      },
      {
       "output_type": "stream",
       "stream": "stdout",
       "text": [
        "55 "
       ]
      },
      {
       "output_type": "stream",
       "stream": "stdout",
       "text": [
        "89 "
       ]
      },
      {
       "output_type": "stream",
       "stream": "stdout",
       "text": [
        "144 "
       ]
      },
      {
       "output_type": "stream",
       "stream": "stdout",
       "text": [
        "233 "
       ]
      },
      {
       "output_type": "stream",
       "stream": "stdout",
       "text": [
        "377 "
       ]
      },
      {
       "output_type": "stream",
       "stream": "stdout",
       "text": [
        "610 "
       ]
      },
      {
       "output_type": "stream",
       "stream": "stdout",
       "text": [
        "987 "
       ]
      },
      {
       "output_type": "stream",
       "stream": "stdout",
       "text": [
        "1597 "
       ]
      },
      {
       "output_type": "stream",
       "stream": "stdout",
       "text": [
        "2584 "
       ]
      },
      {
       "output_type": "stream",
       "stream": "stdout",
       "text": [
        "4181 "
       ]
      },
      {
       "output_type": "stream",
       "stream": "stdout",
       "text": [
        "6765 "
       ]
      },
      {
       "output_type": "stream",
       "stream": "stdout",
       "text": [
        "10946 "
       ]
      },
      {
       "output_type": "stream",
       "stream": "stdout",
       "text": [
        "17711 "
       ]
      },
      {
       "output_type": "stream",
       "stream": "stdout",
       "text": [
        "28657 "
       ]
      },
      {
       "output_type": "stream",
       "stream": "stdout",
       "text": [
        "46368 "
       ]
      },
      {
       "output_type": "stream",
       "stream": "stdout",
       "text": [
        "75025 "
       ]
      },
      {
       "output_type": "stream",
       "stream": "stdout",
       "text": [
        "121393 "
       ]
      },
      {
       "output_type": "stream",
       "stream": "stdout",
       "text": [
        "196418 "
       ]
      },
      {
       "output_type": "stream",
       "stream": "stdout",
       "text": [
        "317811 "
       ]
      },
      {
       "output_type": "stream",
       "stream": "stdout",
       "text": [
        "514229 "
       ]
      },
      {
       "output_type": "stream",
       "stream": "stdout",
       "text": [
        "832040"
       ]
      },
      {
       "ename": "KeyboardInterrupt",
       "evalue": "",
       "output_type": "pyerr",
       "traceback": [
        "\u001b[0;31m---------------------------------------------------------------------------\u001b[0m\n\u001b[0;31mKeyboardInterrupt\u001b[0m                         Traceback (most recent call last)",
        "\u001b[0;32m<ipython-input-28-2b1c59306b32>\u001b[0m in \u001b[0;36m<module>\u001b[0;34m()\u001b[0m\n\u001b[1;32m      1\u001b[0m \u001b[0;32mfor\u001b[0m \u001b[0mnum\u001b[0m \u001b[0;32min\u001b[0m \u001b[0mfibonaci\u001b[0m\u001b[0;34m(\u001b[0m\u001b[0;34m)\u001b[0m\u001b[0;34m:\u001b[0m\u001b[0;34m\u001b[0m\u001b[0m\n\u001b[1;32m      2\u001b[0m     \u001b[0;32mprint\u001b[0m \u001b[0mnum\u001b[0m\u001b[0;34m,\u001b[0m\u001b[0;34m\u001b[0m\u001b[0m\n\u001b[0;32m----> 3\u001b[0;31m     \u001b[0mtime\u001b[0m\u001b[0;34m.\u001b[0m\u001b[0msleep\u001b[0m\u001b[0;34m(\u001b[0m\u001b[0;36m.5\u001b[0m\u001b[0;34m)\u001b[0m\u001b[0;34m\u001b[0m\u001b[0m\n\u001b[0m",
        "\u001b[0;31mKeyboardInterrupt\u001b[0m: "
       ]
      }
     ],
     "prompt_number": 28
    },
    {
     "cell_type": "heading",
     "level": 2,
     "metadata": {},
     "source": [
      "Using generators"
     ]
    },
    {
     "cell_type": "markdown",
     "metadata": {},
     "source": [
      "Generators come in handy when you need to process more data than you can fit into memory.\n",
      "\n",
      "For example, if you need to parse a very large file you can do so incremently."
     ]
    },
    {
     "cell_type": "code",
     "collapsed": false,
     "input": [
      "import csv\n",
      "\n",
      "def file_to_dicts(f):\n",
      "    headers = csv.reader(f).next()\n",
      "    reader = csv.DictReader(f, headers)\n",
      "    for data in reader:\n",
      "        yield data\n",
      "        \n",
      "def find_local(data, latitude, longitude, radius):\n",
      "    for item in data:\n",
      "        item_latitude = float(item['Latitude'])\n",
      "        item_longitude = float(item['Latitude'])\n",
      "        distance = ((latitude - item_latitude) ** 2 + (longitude - item_longitude)**2)**.5\n",
      "        if distance < radius:\n",
      "            yield item\n",
      "            \n",
      "with open('files/toilets.csv') as f:\n",
      "    out = list(find_local(file_to_dicts(f), -37.923679, 145.153170, 159.))\n",
      "    \n",
      "out"
     ],
     "language": "python",
     "metadata": {},
     "outputs": [
      {
       "metadata": {},
       "output_type": "pyout",
       "prompt_number": 2,
       "text": [
        "[{'AccessLimited': 'False',\n",
        "  'AccessNote': '',\n",
        "  'AccessibleFemale': 'False',\n",
        "  'AccessibleMale': 'False',\n",
        "  'AccessibleNote': '',\n",
        "  'AccessibleParkingNote': '',\n",
        "  'AccessibleUnisex': 'False',\n",
        "  'Address1': '',\n",
        "  'AddressNote': '',\n",
        "  'BabyChange': 'False',\n",
        "  'DrinkingWater': 'False',\n",
        "  'FacilityType': 'Airport',\n",
        "  'Female': 'True',\n",
        "  'IconAltText': 'Male and Female, or Unisex',\n",
        "  'IconURL': 'https://toiletmap.gov.au/images/icons/mf.png',\n",
        "  'IsOpen': 'Variable',\n",
        "  'KeyRequired': 'False',\n",
        "  'Latitude': '-11.40235996',\n",
        "  'Longitude': '130.42155899',\n",
        "  'MLAK': 'False',\n",
        "  'Male': 'True',\n",
        "  'Name': 'Garden Point Airport Terminal',\n",
        "  'Notes': '',\n",
        "  'OpeningHoursNote': 'Facilities are open during daily plane arrivals',\n",
        "  'OpeningHoursSchedule': '',\n",
        "  'Parking': 'False',\n",
        "  'ParkingAccessible': 'False',\n",
        "  'ParkingNote': '',\n",
        "  'PaymentRequired': 'False',\n",
        "  'Postcode': '0822',\n",
        "  'SanitaryDisposal': 'False',\n",
        "  'SharpsDisposal': 'False',\n",
        "  'Showers': 'False',\n",
        "  'State': 'Northern Territory',\n",
        "  'Status': 'Verified',\n",
        "  'ToiletID': '4046',\n",
        "  'ToiletType': 'Sewerage',\n",
        "  'Town': 'Pirlangimpi',\n",
        "  'URL': 'https://toiletmap.gov.au/toilet/4046',\n",
        "  'Unisex': 'False'},\n",
        " {'AccessLimited': 'False',\n",
        "  'AccessNote': '',\n",
        "  'AccessibleFemale': 'False',\n",
        "  'AccessibleMale': 'False',\n",
        "  'AccessibleNote': '',\n",
        "  'AccessibleParkingNote': '',\n",
        "  'AccessibleUnisex': 'False',\n",
        "  'Address1': 'Normanby Street',\n",
        "  'AddressNote': '',\n",
        "  'BabyChange': 'False',\n",
        "  'DrinkingWater': 'False',\n",
        "  'FacilityType': 'Park or reserve',\n",
        "  'Female': 'True',\n",
        "  'IconAltText': 'Male and Female, or Unisex',\n",
        "  'IconURL': 'https://toiletmap.gov.au/images/icons/mf.png',\n",
        "  'IsOpen': 'Variable',\n",
        "  'KeyRequired': 'False',\n",
        "  'Latitude': '-10.58347357',\n",
        "  'Longitude': '142.21457995',\n",
        "  'MLAK': 'False',\n",
        "  'Male': 'True',\n",
        "  'Name': 'Anzac Park',\n",
        "  'Notes': '',\n",
        "  'OpeningHoursNote': '',\n",
        "  'OpeningHoursSchedule': '6am-7pm',\n",
        "  'Parking': 'False',\n",
        "  'ParkingAccessible': 'False',\n",
        "  'ParkingNote': '',\n",
        "  'PaymentRequired': 'False',\n",
        "  'Postcode': '4875',\n",
        "  'SanitaryDisposal': 'False',\n",
        "  'SharpsDisposal': 'False',\n",
        "  'Showers': 'False',\n",
        "  'State': 'Queensland',\n",
        "  'Status': 'Verified',\n",
        "  'ToiletID': '19643',\n",
        "  'ToiletType': 'Sewerage',\n",
        "  'Town': 'Thursday Island',\n",
        "  'URL': 'https://toiletmap.gov.au/toilet/19643',\n",
        "  'Unisex': 'False'},\n",
        " {'AccessLimited': 'False',\n",
        "  'AccessNote': '',\n",
        "  'AccessibleFemale': 'False',\n",
        "  'AccessibleMale': 'False',\n",
        "  'AccessibleNote': '',\n",
        "  'AccessibleParkingNote': '',\n",
        "  'AccessibleUnisex': 'False',\n",
        "  'Address1': 'Aubrey Parade',\n",
        "  'AddressNote': '',\n",
        "  'BabyChange': 'False',\n",
        "  'DrinkingWater': 'False',\n",
        "  'FacilityType': 'Other',\n",
        "  'Female': 'True',\n",
        "  'IconAltText': 'Male and Female, or Unisex',\n",
        "  'IconURL': 'https://toiletmap.gov.au/images/icons/mf.png',\n",
        "  'IsOpen': 'Variable',\n",
        "  'KeyRequired': 'False',\n",
        "  'Latitude': '-10.58606105',\n",
        "  'Longitude': '142.20975430',\n",
        "  'MLAK': 'False',\n",
        "  'Male': 'True',\n",
        "  'Name': 'Bach Beach',\n",
        "  'Notes': '',\n",
        "  'OpeningHoursNote': '',\n",
        "  'OpeningHoursSchedule': '6am-7pm',\n",
        "  'Parking': 'False',\n",
        "  'ParkingAccessible': 'False',\n",
        "  'ParkingNote': '',\n",
        "  'PaymentRequired': 'False',\n",
        "  'Postcode': '4875',\n",
        "  'SanitaryDisposal': 'False',\n",
        "  'SharpsDisposal': 'False',\n",
        "  'Showers': 'False',\n",
        "  'State': 'Queensland',\n",
        "  'Status': 'Verified',\n",
        "  'ToiletID': '19645',\n",
        "  'ToiletType': 'Sewerage',\n",
        "  'Town': 'Thursday Island',\n",
        "  'URL': 'https://toiletmap.gov.au/toilet/19645',\n",
        "  'Unisex': 'False'},\n",
        " {'AccessLimited': 'False',\n",
        "  'AccessNote': '',\n",
        "  'AccessibleFemale': 'False',\n",
        "  'AccessibleMale': 'False',\n",
        "  'AccessibleNote': '',\n",
        "  'AccessibleParkingNote': '',\n",
        "  'AccessibleUnisex': 'False',\n",
        "  'Address1': 'Waiben Esplanade',\n",
        "  'AddressNote': '',\n",
        "  'BabyChange': 'False',\n",
        "  'DrinkingWater': 'False',\n",
        "  'FacilityType': 'Other',\n",
        "  'Female': 'True',\n",
        "  'IconAltText': 'Male and Female, or Unisex',\n",
        "  'IconURL': 'https://toiletmap.gov.au/images/icons/mf.png',\n",
        "  'IsOpen': 'Variable',\n",
        "  'KeyRequired': 'False',\n",
        "  'Latitude': '-10.57119363',\n",
        "  'Longitude': '142.22101914',\n",
        "  'MLAK': 'False',\n",
        "  'Male': 'True',\n",
        "  'Name': 'Rose Hill Boat Ramp',\n",
        "  'Notes': '',\n",
        "  'OpeningHoursNote': '',\n",
        "  'OpeningHoursSchedule': '6am-7pm',\n",
        "  'Parking': 'False',\n",
        "  'ParkingAccessible': 'False',\n",
        "  'ParkingNote': '',\n",
        "  'PaymentRequired': 'False',\n",
        "  'Postcode': '4875',\n",
        "  'SanitaryDisposal': 'False',\n",
        "  'SharpsDisposal': 'False',\n",
        "  'Showers': 'False',\n",
        "  'State': 'Queensland',\n",
        "  'Status': 'Verified',\n",
        "  'ToiletID': '19647',\n",
        "  'ToiletType': 'Sewerage',\n",
        "  'Town': 'Thursday Island',\n",
        "  'URL': 'https://toiletmap.gov.au/toilet/19647',\n",
        "  'Unisex': 'False'},\n",
        " {'AccessLimited': 'False',\n",
        "  'AccessNote': '',\n",
        "  'AccessibleFemale': 'False',\n",
        "  'AccessibleMale': 'False',\n",
        "  'AccessibleNote': '',\n",
        "  'AccessibleParkingNote': '',\n",
        "  'AccessibleUnisex': 'False',\n",
        "  'Address1': 'Corner Hastings & Douglas Streets',\n",
        "  'AddressNote': '',\n",
        "  'BabyChange': 'False',\n",
        "  'DrinkingWater': 'False',\n",
        "  'FacilityType': 'Other',\n",
        "  'Female': 'True',\n",
        "  'IconAltText': 'Male and Female, or Unisex',\n",
        "  'IconURL': 'https://toiletmap.gov.au/images/icons/mf.png',\n",
        "  'IsOpen': 'Variable',\n",
        "  'KeyRequired': 'False',\n",
        "  'Latitude': '-10.58375417',\n",
        "  'Longitude': '142.21932464',\n",
        "  'MLAK': 'False',\n",
        "  'Male': 'True',\n",
        "  'Name': 'Corner Hastings & Douglas Streets',\n",
        "  'Notes': '',\n",
        "  'OpeningHoursNote': '',\n",
        "  'OpeningHoursSchedule': '6am-7pm',\n",
        "  'Parking': 'False',\n",
        "  'ParkingAccessible': 'False',\n",
        "  'ParkingNote': '',\n",
        "  'PaymentRequired': 'False',\n",
        "  'Postcode': '4875',\n",
        "  'SanitaryDisposal': 'False',\n",
        "  'SharpsDisposal': 'False',\n",
        "  'Showers': 'False',\n",
        "  'State': 'Queensland',\n",
        "  'Status': 'Verified',\n",
        "  'ToiletID': '19649',\n",
        "  'ToiletType': 'Sewerage',\n",
        "  'Town': 'Thursday Island',\n",
        "  'URL': 'https://toiletmap.gov.au/toilet/19649',\n",
        "  'Unisex': 'False'},\n",
        " {'AccessLimited': 'False',\n",
        "  'AccessNote': '',\n",
        "  'AccessibleFemale': 'False',\n",
        "  'AccessibleMale': 'False',\n",
        "  'AccessibleNote': '',\n",
        "  'AccessibleParkingNote': '',\n",
        "  'AccessibleUnisex': 'False',\n",
        "  'Address1': 'Off Alpin Road',\n",
        "  'AddressNote': '',\n",
        "  'BabyChange': 'False',\n",
        "  'DrinkingWater': 'False',\n",
        "  'FacilityType': 'Other',\n",
        "  'Female': 'True',\n",
        "  'IconAltText': 'Male and Female, or Unisex',\n",
        "  'IconURL': 'https://toiletmap.gov.au/images/icons/mf.png',\n",
        "  'IsOpen': 'Variable',\n",
        "  'KeyRequired': 'False',\n",
        "  'Latitude': '-10.57772893',\n",
        "  'Longitude': '142.21541243',\n",
        "  'MLAK': 'False',\n",
        "  'Male': 'True',\n",
        "  'Name': 'Thursday Island Cemetery',\n",
        "  'Notes': '',\n",
        "  'OpeningHoursNote': '',\n",
        "  'OpeningHoursSchedule': '6am-7pm',\n",
        "  'Parking': 'False',\n",
        "  'ParkingAccessible': 'False',\n",
        "  'ParkingNote': '',\n",
        "  'PaymentRequired': 'False',\n",
        "  'Postcode': '4875',\n",
        "  'SanitaryDisposal': 'False',\n",
        "  'SharpsDisposal': 'False',\n",
        "  'Showers': 'False',\n",
        "  'State': 'Queensland',\n",
        "  'Status': 'Verified',\n",
        "  'ToiletID': '19651',\n",
        "  'ToiletType': 'Sewerage',\n",
        "  'Town': 'Thursday Island',\n",
        "  'URL': 'https://toiletmap.gov.au/toilet/19651',\n",
        "  'Unisex': 'False'},\n",
        " {'AccessLimited': 'False',\n",
        "  'AccessNote': '',\n",
        "  'AccessibleFemale': 'False',\n",
        "  'AccessibleMale': 'False',\n",
        "  'AccessibleNote': '',\n",
        "  'AccessibleParkingNote': '',\n",
        "  'AccessibleUnisex': 'False',\n",
        "  'Address1': 'Pearl Street',\n",
        "  'AddressNote': '',\n",
        "  'BabyChange': 'False',\n",
        "  'DrinkingWater': 'False',\n",
        "  'FacilityType': 'Sporting facility',\n",
        "  'Female': 'True',\n",
        "  'IconAltText': 'Male and Female, or Unisex',\n",
        "  'IconURL': 'https://toiletmap.gov.au/images/icons/mf.png',\n",
        "  'IsOpen': 'Variable',\n",
        "  'KeyRequired': 'False',\n",
        "  'Latitude': '-10.58654867',\n",
        "  'Longitude': '142.21207621',\n",
        "  'MLAK': 'False',\n",
        "  'Male': 'True',\n",
        "  'Name': 'Ken Brown Oval',\n",
        "  'Notes': '',\n",
        "  'OpeningHoursNote': '',\n",
        "  'OpeningHoursSchedule': '6am-7pm',\n",
        "  'Parking': 'False',\n",
        "  'ParkingAccessible': 'False',\n",
        "  'ParkingNote': '',\n",
        "  'PaymentRequired': 'False',\n",
        "  'Postcode': '4875',\n",
        "  'SanitaryDisposal': 'False',\n",
        "  'SharpsDisposal': 'False',\n",
        "  'Showers': 'False',\n",
        "  'State': 'Queensland',\n",
        "  'Status': 'Verified',\n",
        "  'ToiletID': '19653',\n",
        "  'ToiletType': 'Sewerage',\n",
        "  'Town': 'Thursday Island',\n",
        "  'URL': 'https://toiletmap.gov.au/toilet/19653',\n",
        "  'Unisex': 'False'},\n",
        " {'AccessLimited': 'False',\n",
        "  'AccessNote': '',\n",
        "  'AccessibleFemale': 'False',\n",
        "  'AccessibleMale': 'False',\n",
        "  'AccessibleNote': '',\n",
        "  'AccessibleParkingNote': '',\n",
        "  'AccessibleUnisex': 'False',\n",
        "  'Address1': '1 Koraba St',\n",
        "  'AddressNote': '',\n",
        "  'BabyChange': 'False',\n",
        "  'DrinkingWater': 'False',\n",
        "  'FacilityType': 'Service station',\n",
        "  'Female': 'True',\n",
        "  'IconAltText': 'Male and Female, or Unisex',\n",
        "  'IconURL': 'https://toiletmap.gov.au/images/icons/mf.png',\n",
        "  'IsOpen': 'DaylightHours',\n",
        "  'KeyRequired': 'False',\n",
        "  'Latitude': '-10.84781200',\n",
        "  'Longitude': '142.36779600',\n",
        "  'MLAK': 'False',\n",
        "  'Male': 'True',\n",
        "  'Name': 'Seisia Service Station - BP',\n",
        "  'Notes': '',\n",
        "  'OpeningHoursNote': '',\n",
        "  'OpeningHoursSchedule': '',\n",
        "  'Parking': 'False',\n",
        "  'ParkingAccessible': 'False',\n",
        "  'ParkingNote': '',\n",
        "  'PaymentRequired': 'False',\n",
        "  'Postcode': '4876',\n",
        "  'SanitaryDisposal': 'False',\n",
        "  'SharpsDisposal': 'False',\n",
        "  'Showers': 'False',\n",
        "  'State': 'Queensland',\n",
        "  'Status': 'Unverified',\n",
        "  'ToiletID': '37035',\n",
        "  'ToiletType': 'Sewerage',\n",
        "  'Town': 'Seisia',\n",
        "  'URL': 'https://toiletmap.gov.au/toilet/37035',\n",
        "  'Unisex': 'False'},\n",
        " {'AccessLimited': 'False',\n",
        "  'AccessNote': '',\n",
        "  'AccessibleFemale': 'False',\n",
        "  'AccessibleMale': 'False',\n",
        "  'AccessibleNote': '',\n",
        "  'AccessibleParkingNote': '',\n",
        "  'AccessibleUnisex': 'False',\n",
        "  'Address1': '',\n",
        "  'AddressNote': '',\n",
        "  'BabyChange': 'False',\n",
        "  'DrinkingWater': 'False',\n",
        "  'FacilityType': 'Airport',\n",
        "  'Female': 'True',\n",
        "  'IconAltText': 'Male and Female, or Unisex',\n",
        "  'IconURL': 'https://toiletmap.gov.au/images/icons/mf.png',\n",
        "  'IsOpen': 'Variable',\n",
        "  'KeyRequired': 'False',\n",
        "  'Latitude': '-11.42300114',\n",
        "  'Longitude': '130.65194483',\n",
        "  'MLAK': 'False',\n",
        "  'Male': 'True',\n",
        "  'Name': 'Snake Bay Airport Terminal',\n",
        "  'Notes': '',\n",
        "  'OpeningHoursNote': 'When the airport is in use',\n",
        "  'OpeningHoursSchedule': '',\n",
        "  'Parking': 'False',\n",
        "  'ParkingAccessible': 'False',\n",
        "  'ParkingNote': '',\n",
        "  'PaymentRequired': 'False',\n",
        "  'Postcode': '0822',\n",
        "  'SanitaryDisposal': 'False',\n",
        "  'SharpsDisposal': 'False',\n",
        "  'Showers': 'False',\n",
        "  'State': 'Northern Territory',\n",
        "  'Status': 'Verified',\n",
        "  'ToiletID': '40253',\n",
        "  'ToiletType': 'Sewerage',\n",
        "  'Town': 'Milikapiti',\n",
        "  'URL': 'https://toiletmap.gov.au/toilet/40253',\n",
        "  'Unisex': 'False'}]"
       ]
      }
     ],
     "prompt_number": 2
    },
    {
     "cell_type": "markdown",
     "metadata": {},
     "source": [
      "<h1>Continue to [Decorators](/notebooks/5.%20Decorators.ipynb).</h1>"
     ]
    },
    {
     "cell_type": "code",
     "collapsed": false,
     "input": [],
     "language": "python",
     "metadata": {},
     "outputs": []
    }
   ],
   "metadata": {}
  }
 ]
}