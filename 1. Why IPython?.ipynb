{
 "metadata": {
  "name": "",
  "signature": "sha256:37ba975046171b4abab12b4d5f6c668c5338ae04c9cb03b6f801e27740c42763"
 },
 "nbformat": 3,
 "nbformat_minor": 0,
 "worksheets": [
  {
   "cells": [
    {
     "cell_type": "heading",
     "level": 1,
     "metadata": {},
     "source": [
      "Why IPython?"
     ]
    },
    {
     "cell_type": "markdown",
     "metadata": {},
     "source": [
      "A typical Python program will consist of one of more `.py` files which are executed by the Python interpreter.\n",
      "\n",
      "Eg. \"Hello World\" would simply be\n",
      "\n",
      "`hello.py`\n",
      "\n",
      "```python\n",
      "#!/usr/local/bin/python\n",
      "print('Hello World!')\n",
      "```\n",
      "\n",
      "To execute this program you would run the following in a terminal:\n",
      "\n",
      "```bash\n",
      "python hello.py\n",
      "```"
     ]
    },
    {
     "cell_type": "markdown",
     "metadata": {},
     "source": [
      "In this tutorial we will be using a tool called **IPython Notebook** which allows you to execute Python code in your web browser.\n",
      "\n",
      "A Notebook is a series of cells which can be either Python code or Markdown code. When you run a cell containing Python\n",
      "code, IPython sends this code to a Python interpreter where it is executed. The output of the block of code is sent back to the browser and displayed below the cell."
     ]
    },
    {
     "cell_type": "markdown",
     "metadata": {},
     "source": [
      "<div class=\"alert alert-success\">\n",
      "Try running the following two cells by clicking in them and pressing **`Shift-Enter`**.\n",
      "</div>"
     ]
    },
    {
     "cell_type": "code",
     "collapsed": false,
     "input": [
      "message = 'Hello World!'\n",
      "print message"
     ],
     "language": "python",
     "metadata": {},
     "outputs": []
    },
    {
     "cell_type": "code",
     "collapsed": false,
     "input": [
      "pi = 3.14159\n",
      "radius = 5\n",
      "area = pi * radius ** 2\n",
      "print 'Area:', area, 'meters squared'"
     ],
     "language": "python",
     "metadata": {},
     "outputs": []
    },
    {
     "cell_type": "markdown",
     "metadata": {},
     "source": [
      "The Python interpreter maintains a namespace of variables which allows you to reuse variables in later cells:"
     ]
    },
    {
     "cell_type": "code",
     "collapsed": false,
     "input": [
      "circumference = 2 * pi * radius\n",
      "print 'Circumference:', circumference, 'meters'"
     ],
     "language": "python",
     "metadata": {},
     "outputs": []
    },
    {
     "cell_type": "markdown",
     "metadata": {},
     "source": [
      "You can see the namespace with the **`%whos`** magic command:"
     ]
    },
    {
     "cell_type": "code",
     "collapsed": false,
     "input": [
      "%whos"
     ],
     "language": "python",
     "metadata": {},
     "outputs": []
    },
    {
     "cell_type": "heading",
     "level": 1,
     "metadata": {},
     "source": [
      "Why IPython?"
     ]
    },
    {
     "cell_type": "markdown",
     "metadata": {},
     "source": [
      "IPython has risen to popularity in the scientific community as it allows users to play around with data\n",
      "without having to re-run a script every time."
     ]
    },
    {
     "cell_type": "code",
     "collapsed": false,
     "input": [
      "import numpy as np\n",
      "import matplotlib.pyplot as plt\n",
      "%matplotlib inline\n",
      "\n",
      "x = np.linspace(0, 20, 100)\n",
      "y = np.sin(x) + np.sin(x / 2.)\n",
      "\n",
      "plt.plot(x, y)"
     ],
     "language": "python",
     "metadata": {},
     "outputs": []
    },
    {
     "cell_type": "markdown",
     "metadata": {},
     "source": [
      "IPython Notebook also has many advantages for developing software:\n",
      "\n",
      "* Instant feedback makes testing easier.\n",
      "* Tab completion.\n",
      "* Show function signatures with **`Shift-Tab`**.\n",
      "* Magic commands such as **`%timeit`** allow easy debugging.\n",
      "* Notebooks are saved as `.pynb` file which can be shared with others."
     ]
    },
    {
     "cell_type": "heading",
     "level": 1,
     "metadata": {},
     "source": [
      "Using IPython"
     ]
    },
    {
     "cell_type": "markdown",
     "metadata": {},
     "source": [
      "IPython Notebook has two modes: **Command Mode** and **Edit Mode**.\n",
      "\n",
      "When in Command Mode, you can navigate between cells with the arrow keys or **`j`** and **`k`**.\n",
      "\n",
      "To enter Edit Mode hit **`Enter`** or **double-click** a cell.\n",
      "\n",
      "To return to Command Mode hit **`Shift+Enter`** (to execute) or **`Esc`**.\n",
      "\n",
      "Press **`h`** while in Command Mode to see a list of commands.\n",
      "\n",
      "The toolbar at the top has keys for manipulating cells:\n",
      "\n",
      "* <button class=\"btn\" title=\"Save and Checkpoint\" id=\"save_b\"><i class=\"icon-save\"></i></button> - Save the notebook\n",
      "* <button class=\"btn\" title=\"Insert Cell Below\" id=\"insert_below_b\"><i class=\"icon-plus-sign\"></i></button> - Create a new cell\n",
      "* <div class=\"btn-group\" id=\"cut_copy_paste\"><button class=\"btn\" title=\"Cut Cell\" id=\"cut_b\"><i class=\"icon-cut\"></i></button><button class=\"btn\" title=\"Copy Cell\" id=\"copy_b\"><i class=\"icon-copy\"></i></button><button class=\"btn\" title=\"Paste Cell Below\" id=\"paste_b\"><i class=\"icon-paste\"></i></button></div> - Cut, copy and paste whole cells\n",
      "* <div class=\"btn-group\" id=\"move_up_down\"><button class=\"btn\" title=\"Move Cell Up\" id=\"move_up_b\"><i class=\"icon-arrow-up\"></i></button><button class=\"btn\" title=\"Move Cell Down\" id=\"move_down_b\"><i class=\"icon-arrow-down\"></i></button></div> - Move cells up or down\n",
      "* <div class=\"btn-group\" id=\"run_int\"><button class=\"btn\" title=\"Run Cell\" id=\"run_b\"><i class=\"icon-play\"></i></button><button class=\"btn\" title=\"Interrupt\" id=\"interrupt_b\"><i class=\"icon-stop\"></i></button><button class=\"btn\" title=\"Restart Kernel\" id=\"repeat_b\"><i class=\"icon-repeat\"></i></button></div> - Run a cell, stop execution and restart the kernel\n",
      "\n",
      "The <span class=\"indicator_area\"><i class=\"kernel_idle_icon\" title=\"Kernel Idle\"></i></span> in the top-right corner will be solid <span class=\"indicator_area\"><i class=\"kernel_busy_icon\" title=\"Kernel Idle\"></i></span> when the kernel is executing some Python code."
     ]
    },
    {
     "cell_type": "markdown",
     "metadata": {},
     "source": [
      "<div class=\"alert alert-success\">\n",
      "Have a go at creating a new cell, entering an expressing like `print(\"Success!\")` and executing the cell. Try running a shell command by prefacing it with a `!` (eg `!ls -l` or `!dir`).\n",
      "</div>"
     ]
    },
    {
     "cell_type": "markdown",
     "metadata": {},
     "source": [
      "<h1>Continue to [Introduction to Python](/notebooks/2.%20Introduction%20to%20Python.ipynb).</h1>"
     ]
    },
    {
     "cell_type": "code",
     "collapsed": false,
     "input": [],
     "language": "python",
     "metadata": {},
     "outputs": []
    }
   ],
   "metadata": {}
  }
 ]
}