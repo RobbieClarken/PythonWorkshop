{
 "metadata": {
  "name": "",
  "signature": "sha256:cf1b8e207ea9f6c6d1ff354e3e8958620395a2dc5a87b65ffefde9c5c1bd1773"
 },
 "nbformat": 3,
 "nbformat_minor": 0,
 "worksheets": [
  {
   "cells": [
    {
     "cell_type": "heading",
     "level": 1,
     "metadata": {},
     "source": [
      "Iterators"
     ]
    },
    {
     "cell_type": "markdown",
     "metadata": {},
     "source": [
      "An iterator is an object with a special method called **`next()`** (or **`__next__()`** in Python 3) which is used to\n",
      "produce a sequence of values. The humble **`for`** loop produces an iterator calls **`next()`** on it each iteration of the\n",
      "loop.\n",
      "\n",
      "Similarly, functions like **`list()`** and **`zip()`** all make use of the **`next()`** method to fetch sequences.\n",
      "\n",
      "When the **`for`** loop initiates it will first call the **`__iter__()`** on the supplied object and then call **`next()`** on the returned object at the start of each loop.\n",
      "\n",
      "We can observe this behaviour by producing an iterator from a list:"
     ]
    },
    {
     "cell_type": "code",
     "collapsed": false,
     "input": [
      "colours = ['red', 'green', 'blue']\n",
      "colour_iter = iter(colours)\n",
      "print 'The iter object =', colour_iter\n",
      "print '(1)', next(colour_iter)\n",
      "print '(2)', next(colour_iter)\n",
      "print '(3)', next(colour_iter)\n",
      "#print '(4)', next(colour_iter)"
     ],
     "language": "python",
     "metadata": {},
     "outputs": []
    },
    {
     "cell_type": "markdown",
     "metadata": {},
     "source": [
      "**`file`** objects also support iteration:"
     ]
    },
    {
     "cell_type": "code",
     "collapsed": false,
     "input": [
      "f = open('files/iteration.txt')\n",
      "print '(1)', next(f)\n",
      "print '(2)', next(f)\n",
      "print '(3)', next(f)\n",
      "f.close()"
     ],
     "language": "python",
     "metadata": {},
     "outputs": []
    },
    {
     "cell_type": "markdown",
     "metadata": {},
     "source": [
      "This allows you to loop over the lines in a file or use them in any function that takes an iterable:"
     ]
    },
    {
     "cell_type": "code",
     "collapsed": false,
     "input": [
      "f = open('files/iteration.txt')\n",
      "\n",
      "print zip(colours, f)\n",
      "\n",
      "f.close()"
     ],
     "language": "python",
     "metadata": {},
     "outputs": []
    },
    {
     "cell_type": "markdown",
     "metadata": {},
     "source": [
      "To create your own iterable you can create a class that implements the **`__iter__()`** and **`next()`** methods:"
     ]
    },
    {
     "cell_type": "code",
     "collapsed": false,
     "input": [
      "import random\n",
      "\n",
      "class RandomIterator(object):\n",
      "    \n",
      "    def __iter__(self):\n",
      "        return self\n",
      "    \n",
      "    def next(self):                     # __next__ in Python 3\n",
      "        value = random.randint(0, 10)\n",
      "        if value == 0:\n",
      "            raise StopIteration\n",
      "        return value"
     ],
     "language": "python",
     "metadata": {},
     "outputs": []
    },
    {
     "cell_type": "code",
     "collapsed": false,
     "input": [
      "it = RandomIterator()\n",
      "for i in it:\n",
      "    print i"
     ],
     "language": "python",
     "metadata": {},
     "outputs": []
    },
    {
     "cell_type": "markdown",
     "metadata": {},
     "source": [
      "Alternatively you can make a Generator functions..."
     ]
    },
    {
     "cell_type": "heading",
     "level": 1,
     "metadata": {},
     "source": [
      "Generators"
     ]
    },
    {
     "cell_type": "markdown",
     "metadata": {},
     "source": [
      "A generator is a strange object that is returned by any function which includes a **`yield`** statement:"
     ]
    },
    {
     "cell_type": "code",
     "collapsed": false,
     "input": [
      "def example_generator():\n",
      "    \n",
      "    print '==== before the first yield ===='\n",
      "    \n",
      "    yield 'something'\n",
      "    \n",
      "    print '==== after the first yield ===='\n",
      "    \n",
      "    yield 'something else'\n",
      "    \n",
      "    print '==== the end ===='"
     ],
     "language": "python",
     "metadata": {},
     "outputs": []
    },
    {
     "cell_type": "code",
     "collapsed": false,
     "input": [
      "gen = example_generator()\n",
      "print gen"
     ],
     "language": "python",
     "metadata": {},
     "outputs": []
    },
    {
     "cell_type": "code",
     "collapsed": false,
     "input": [
      "next(gen)"
     ],
     "language": "python",
     "metadata": {},
     "outputs": []
    },
    {
     "cell_type": "code",
     "collapsed": false,
     "input": [
      "next(gen)"
     ],
     "language": "python",
     "metadata": {},
     "outputs": []
    },
    {
     "cell_type": "code",
     "collapsed": false,
     "input": [
      "next(gen)"
     ],
     "language": "python",
     "metadata": {},
     "outputs": []
    },
    {
     "cell_type": "code",
     "collapsed": false,
     "input": [
      "def example_generator():\n",
      "    yield 'first'\n",
      "    yield 'second'\n",
      "    yield 'third'\n",
      "\n",
      "for value in example_generator():\n",
      "    print value"
     ],
     "language": "python",
     "metadata": {},
     "outputs": []
    },
    {
     "cell_type": "code",
     "collapsed": false,
     "input": [
      "import random\n",
      "import time\n",
      "\n",
      "def random_number_generator(n):\n",
      "    while True:\n",
      "        yield random.randint(0, n)"
     ],
     "language": "python",
     "metadata": {},
     "outputs": []
    },
    {
     "cell_type": "code",
     "collapsed": false,
     "input": [
      "for value in random_number_generator(10):\n",
      "    print value,\n",
      "    time.sleep(.5)"
     ],
     "language": "python",
     "metadata": {},
     "outputs": []
    },
    {
     "cell_type": "markdown",
     "metadata": {},
     "source": [
      "or Fibonnaci numbers:"
     ]
    },
    {
     "cell_type": "code",
     "collapsed": false,
     "input": [
      "def fibonaci():\n",
      "    fib_n_sub_1 = 0\n",
      "    fib_n = 1\n",
      "    while True:\n",
      "        yield fib_n\n",
      "        fib_n, fib_n_sub_1 = fib_n + fib_n_sub_1, fib_n"
     ],
     "language": "python",
     "metadata": {},
     "outputs": []
    },
    {
     "cell_type": "code",
     "collapsed": false,
     "input": [
      "for num in fibonaci():\n",
      "    print num,\n",
      "    time.sleep(.5)"
     ],
     "language": "python",
     "metadata": {},
     "outputs": []
    },
    {
     "cell_type": "heading",
     "level": 2,
     "metadata": {},
     "source": [
      "Using generators"
     ]
    },
    {
     "cell_type": "markdown",
     "metadata": {},
     "source": [
      "Generators come in handy when you need to process more data than you can fit into memory.\n",
      "\n",
      "For example, if you need to parse a very large file you can do so incremently."
     ]
    },
    {
     "cell_type": "code",
     "collapsed": false,
     "input": [
      "import csv\n",
      "\n",
      "def file_to_dicts(f):\n",
      "    headers = csv.reader(f).next()\n",
      "    reader = csv.DictReader(f, headers)\n",
      "    for data in reader:\n",
      "        yield data\n",
      "        \n",
      "def find_local(data, latitude, longitude, radius):\n",
      "    for item in data:\n",
      "        item_latitude = float(item['Latitude'])\n",
      "        item_longitude = float(item['Latitude'])\n",
      "        distance = ((latitude - item_latitude) ** 2 + (longitude - item_longitude)**2)**.5\n",
      "        if distance < radius:\n",
      "            yield item\n",
      "            \n",
      "with open('files/toilets.csv') as f:\n",
      "    out = list(find_local(file_to_dicts(f), -37.923679, 145.153170, 159.))\n",
      "    \n",
      "out"
     ],
     "language": "python",
     "metadata": {},
     "outputs": []
    },
    {
     "cell_type": "markdown",
     "metadata": {},
     "source": [
      "<h1>Continue to [Decorators](/notebooks/5.%20Decorators.ipynb).</h1>"
     ]
    },
    {
     "cell_type": "code",
     "collapsed": false,
     "input": [],
     "language": "python",
     "metadata": {},
     "outputs": []
    }
   ],
   "metadata": {}
  }
 ]
}