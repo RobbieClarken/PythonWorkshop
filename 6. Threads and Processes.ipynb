{
 "metadata": {
  "name": "",
  "signature": "sha256:89a032e83744ecc37ba7b9eb7df90e4d121c2265071febd69b4b2895c80b636c"
 },
 "nbformat": 3,
 "nbformat_minor": 0,
 "worksheets": [
  {
   "cells": [
    {
     "cell_type": "heading",
     "level": 1,
     "metadata": {},
     "source": [
      "Threads"
     ]
    },
    {
     "cell_type": "markdown",
     "metadata": {},
     "source": [
      "Threads in Python are very useful when you have tasks that require waiting for something to happen. For example, if we wanted to perform several network requests:"
     ]
    },
    {
     "cell_type": "code",
     "collapsed": false,
     "input": [
      "# Without threads\n",
      "\n",
      "import requests\n",
      "import time\n",
      "\n",
      "urls = [\n",
      "    'http://synchrotron.org.au/',\n",
      "    'http://www.diamond.ac.uk/',\n",
      "    'http://www.bnl.gov/ps/',\n",
      "    'http://www.aps.anl.gov/',\n",
      "    'http://www.spring8.or.jp/en/',\n",
      "    'https://www.maxiv.se/',\n",
      "]\n",
      "\n",
      "start = time.time()\n",
      "responses = {}\n",
      "for url in urls:\n",
      "    t = time.time()\n",
      "    responses[url] = requests.get(url)\n",
      "    print('{:<28} {:5.2f}'.format(url, time.time() - t))\n",
      "end = time.time()\n",
      "\n",
      "print('{:<28} {:5.2f}'.format('Total time:', end - start))"
     ],
     "language": "python",
     "metadata": {},
     "outputs": [
      {
       "output_type": "stream",
       "stream": "stdout",
       "text": [
        "http://synchrotron.org.au/    2.07\n",
        "http://www.diamond.ac.uk/     2.44"
       ]
      },
      {
       "output_type": "stream",
       "stream": "stdout",
       "text": [
        "\n",
        "http://www.bnl.gov/ps/        3.34"
       ]
      },
      {
       "output_type": "stream",
       "stream": "stdout",
       "text": [
        "\n",
        "http://www.aps.anl.gov/       5.47"
       ]
      },
      {
       "output_type": "stream",
       "stream": "stdout",
       "text": [
        "\n",
        "http://www.spring8.or.jp/en/  1.56"
       ]
      },
      {
       "output_type": "stream",
       "stream": "stdout",
       "text": [
        "\n",
        "https://www.maxiv.se/         3.66"
       ]
      },
      {
       "output_type": "stream",
       "stream": "stdout",
       "text": [
        "\n",
        "Total time:                  18.54\n"
       ]
      }
     ],
     "prompt_number": 1
    },
    {
     "cell_type": "code",
     "collapsed": false,
     "input": [
      "# With threads\n",
      "\n",
      "from threading import Thread\n",
      "\n",
      "responses = {}\n",
      "def get(url):\n",
      "    t = time.time()\n",
      "    responses[url] = requests.get(url)\n",
      "    print('{:<28} {:5.2f}'.format(url, time.time() - t))\n",
      "\n",
      "start = time.time()\n",
      "\n",
      "threads = []\n",
      "for url in urls:\n",
      "    thread = Thread(target=get, args=(url,))\n",
      "    thread.start()\n",
      "    threads.append(thread)\n",
      "\n",
      "for thread in threads:\n",
      "    thread.join()\n",
      "\n",
      "end = time.time()\n",
      "\n",
      "print('{:<28} {:5.2f}'.format('Total time:', end - start))"
     ],
     "language": "python",
     "metadata": {},
     "outputs": [
      {
       "output_type": "stream",
       "stream": "stdout",
       "text": [
        "http://www.spring8.or.jp/en/  1.12\n",
        "http://www.diamond.ac.uk/     1.41\n",
        "http://synchrotron.org.au/    1.64\n",
        "https://www.maxiv.se/         2.36\n",
        "http://www.aps.anl.gov/       2.40\n",
        "http://www.bnl.gov/ps/        2.45\n",
        "Total time:                   2.45"
       ]
      },
      {
       "output_type": "stream",
       "stream": "stdout",
       "text": [
        "\n"
       ]
      }
     ],
     "prompt_number": 2
    },
    {
     "cell_type": "markdown",
     "metadata": {},
     "source": [
      "So threads certainly come in handy for tasks that need to wait on I/O. How about for a CPU bound task?"
     ]
    },
    {
     "cell_type": "code",
     "collapsed": false,
     "input": [
      "import time\n",
      "\n",
      "def is_prime(n):\n",
      "    for i in xrange(2, int(n ** .5) + 1):\n",
      "        if n % i == 0:\n",
      "            return False\n",
      "    return True\n",
      "\n",
      "# Prime candidates\n",
      "numbers = [\n",
      "    281702565146179,\n",
      "    1839463226533711,\n",
      "    437060776273703,\n",
      "    403488712911637,\n",
      "    720010827689641,\n",
      "    198208378833169,\n",
      "    154858490627233,\n",
      "    1525653155743337,\n",
      "]"
     ],
     "language": "python",
     "metadata": {},
     "outputs": [],
     "prompt_number": 3
    },
    {
     "cell_type": "code",
     "collapsed": false,
     "input": [
      "# Without Threads\n",
      "\n",
      "start = time.time()\n",
      "for n in numbers:\n",
      "    t = time.time()\n",
      "    prime = is_prime(n)\n",
      "    print('{:<16} {:d} {:5.2f}'.format(n, prime, time.time() - t)) \n",
      "end = time.time()\n",
      "\n",
      "print('{:<18} {:5.2f}'.format('Total time:', end - start))"
     ],
     "language": "python",
     "metadata": {},
     "outputs": [
      {
       "output_type": "stream",
       "stream": "stdout",
       "text": [
        "281702565146179  1  1.27\n",
        "1839463226533711 0  3.14"
       ]
      },
      {
       "output_type": "stream",
       "stream": "stdout",
       "text": [
        "\n",
        "437060776273703  0  0.75"
       ]
      },
      {
       "output_type": "stream",
       "stream": "stdout",
       "text": [
        "\n",
        "403488712911637  1  1.50"
       ]
      },
      {
       "output_type": "stream",
       "stream": "stdout",
       "text": [
        "\n",
        "720010827689641  1  1.95"
       ]
      },
      {
       "output_type": "stream",
       "stream": "stdout",
       "text": [
        "\n",
        "198208378833169  1  1.07"
       ]
      },
      {
       "output_type": "stream",
       "stream": "stdout",
       "text": [
        "\n",
        "154858490627233  0  0.75"
       ]
      },
      {
       "output_type": "stream",
       "stream": "stdout",
       "text": [
        "\n",
        "1525653155743337 0  2.82"
       ]
      },
      {
       "output_type": "stream",
       "stream": "stdout",
       "text": [
        "\n",
        "Total time:        13.26\n"
       ]
      }
     ],
     "prompt_number": 4
    },
    {
     "cell_type": "markdown",
     "metadata": {},
     "source": [
      "Slow - not a problem... let's divide the work amongst threads:"
     ]
    },
    {
     "cell_type": "code",
     "collapsed": false,
     "input": [
      "# With threads\n",
      "\n",
      "from threading import Thread\n",
      "\n",
      "def check_prime(n):\n",
      "    t = time.time()\n",
      "    prime = is_prime(n)\n",
      "    print('{:<16} {:d} {:5.2f}'.format(n, prime, time.time() - t))\n",
      "    \n",
      "start = time.time()\n",
      "\n",
      "threads = []\n",
      "for n in numbers:\n",
      "    thread = Thread(target=check_prime, args=(n,))\n",
      "    thread.start()\n",
      "    threads.append(thread)\n",
      "\n",
      "for thread in threads:\n",
      "    thread.join()\n",
      "\n",
      "end = time.time()\n",
      "print('{:<18} {:5.2f}'.format('Total time:', end - start))"
     ],
     "language": "python",
     "metadata": {},
     "outputs": [
      {
       "output_type": "stream",
       "stream": "stdout",
       "text": [
        "154858490627233  0  7.72\n",
        "437060776273703  0  8.91\n",
        "198208378833169  1  9.96\n",
        "281702565146179  1 12.30\n",
        "403488712911637  1 13.18\n",
        "720010827689641  1 15.23\n",
        "1525653155743337 0 16.53\n",
        "1839463226533711 0 16.93\n",
        "Total time:        16.94"
       ]
      },
      {
       "output_type": "stream",
       "stream": "stdout",
       "text": [
        "\n"
       ]
      }
     ],
     "prompt_number": 5
    },
    {
     "cell_type": "markdown",
     "metadata": {},
     "source": [
      "<img src=\"images/what.jpg\">"
     ]
    },
    {
     "cell_type": "heading",
     "level": 2,
     "metadata": {},
     "source": [
      "<img class=\"left\" src=\"images/fire.gif\" style=\"display:inline; margin-top:0;\"/><img class=\"left\" src=\"images/fire.gif\" style=\"display:inline; margin-top:0;\"/><img class=\"left\" src=\"images/fire.gif\" style=\"display:inline;margin-top:0;\" /> The GIL <img class=\"left\" src=\"images/fire.gif\" style=\"display:inline;margin-top:0;\" /><img class=\"left\" src=\"images/fire.gif\" style=\"display:inline;margin-top:0;\" /><img class=\"left\" src=\"images/fire.gif\" style=\"display:inline; margin-top:0;\"/>"
     ]
    },
    {
     "cell_type": "markdown",
     "metadata": {},
     "source": [
      "The Global Interpreter Lock is a mutex in python which prevents more than one thread from running python code at any one time.\n",
      "\n",
      "The thread with the GIL will run until it performs any I/O such as a read/write. At this point it releases the GIL and another thread is able to acquire the GIL. If I/O is a limiting factor for your program then threads can improve performance.\n",
      "\n",
      "What happens if your thread never does I/O (such as our primality test above)?\n",
      "\n",
      "In this case Python will force the thread to give up the GIL after a certain interval. At this point another thread is able to acquire the GIL and start running.\n",
      "\n",
      "This effectively means that CPU-bound computations will not see better performance by using multiple threads.\n",
      "\n",
      "In fact the performance can be *worse* because of the context switching when threads fight over the GIL.\n",
      "\n",
      "For more information: http://dabeaz.com/GIL/ - [YouTube](https://www.youtube.com/watch?v=Obt-vMVdM8s)"
     ]
    },
    {
     "cell_type": "heading",
     "level": 1,
     "metadata": {},
     "source": [
      "Multiprocessing"
     ]
    },
    {
     "cell_type": "markdown",
     "metadata": {},
     "source": [
      "The **`multiprocessing`** module allows concurrent processing which bypasses the GIL by spawning subprocesses. Each process gets its own interpreter and therefore its own GIL.\n",
      "\n",
      "Any variables in scope at the time the subprocess is spawned are copied into the subprocess.\n",
      "\n",
      "The downsides of subprocesses are:\n",
      "* Processes can take time to spawn (especially on Windows)\n",
      "* Processes cannot share regular python variables - must use a **`Queue()`**, **`Value()`** or **`Array()`** objects"
     ]
    },
    {
     "cell_type": "code",
     "collapsed": false,
     "input": [
      "from multiprocessing import Process, Queue\n",
      "\n",
      "# Processes cannot share memory so a special queue variable must be passed in\n",
      "def check_prime(n, queue):\n",
      "    t = time.time()\n",
      "    prime = is_prime(n)\n",
      "    time_taken = time.time() - t\n",
      "    queue.put( (n, prime, time_taken) )\n",
      "\n",
      "start = time.time()\n",
      "\n",
      "# Create the processes\n",
      "processes = []\n",
      "queue = Queue()\n",
      "for n in numbers:\n",
      "    process = Process(target=check_prime, args=(n, queue))\n",
      "    process.start()\n",
      "    processes.append(process)\n",
      "\n",
      "# Wait for completion\n",
      "for process in processes:\n",
      "    process.join()\n",
      "\n",
      "end = time.time()\n",
      "\n",
      "while not queue.empty():\n",
      "    n, prime, time_taken = queue.get()\n",
      "    print('{:<16} {:d} {:5.2f}'.format(n, prime, time_taken))\n",
      "\n",
      "print('{:<18} {:5.2f}'.format('Total time:', end - start))"
     ],
     "language": "python",
     "metadata": {},
     "outputs": [
      {
       "output_type": "stream",
       "stream": "stdout",
       "text": [
        "437060776273703  0  1.36\n",
        "154858490627233  0  1.35\n",
        "198208378833169  1  1.80\n",
        "281702565146179  1  2.13\n",
        "403488712911637  1  2.37\n",
        "720010827689641  1  2.90\n",
        "1525653155743337 0  3.64\n",
        "1839463226533711 0  4.09\n",
        "Total time:         4.12\n"
       ]
      }
     ],
     "prompt_number": 6
    },
    {
     "cell_type": "markdown",
     "metadata": {},
     "source": [
      "The multiprocessing module also offers a more elegant method using a process pool which you submit tasks to:"
     ]
    },
    {
     "cell_type": "code",
     "collapsed": false,
     "input": [
      "from multiprocessing import Pool\n",
      "\n",
      "start = time.time()\n",
      "\n",
      "pool = Pool(8)\n",
      "results = pool.map(is_prime, numbers)\n",
      "\n",
      "for n, prime in zip(numbers, results):\n",
      "    print('{:<16} {:d}'.format(n, prime))\n",
      "\n",
      "end = time.time()\n",
      "print('{:<18} {:5.2f}'.format('Total time:', end - start))"
     ],
     "language": "python",
     "metadata": {},
     "outputs": [
      {
       "output_type": "stream",
       "stream": "stdout",
       "text": [
        "281702565146179  1\n",
        "1839463226533711 0\n",
        "437060776273703  0\n",
        "403488712911637  1\n",
        "720010827689641  1\n",
        "198208378833169  1\n",
        "154858490627233  0\n",
        "1525653155743337 0\n",
        "Total time:         4.07\n"
       ]
      }
     ],
     "prompt_number": 8
    },
    {
     "cell_type": "markdown",
     "metadata": {},
     "source": [
      "<h1>Continue to [PyEPICS](/notebooks/7.%20PyEPICS.ipynb).</h1>"
     ]
    },
    {
     "cell_type": "code",
     "collapsed": false,
     "input": [],
     "language": "python",
     "metadata": {},
     "outputs": []
    }
   ],
   "metadata": {}
  }
 ]
}