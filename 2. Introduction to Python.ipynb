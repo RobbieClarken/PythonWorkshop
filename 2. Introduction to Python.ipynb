{
 "metadata": {
  "name": "",
  "signature": "sha256:453bd837a8d6aec8218b3c9e4a05726c604e2344959ab0fa9778ec75d71c988e"
 },
 "nbformat": 3,
 "nbformat_minor": 0,
 "worksheets": [
  {
   "cells": [
    {
     "cell_type": "heading",
     "level": 1,
     "metadata": {},
     "source": [
      "Variables and Types"
     ]
    },
    {
     "cell_type": "markdown",
     "metadata": {},
     "source": [
      "Declaring variables is done by simply assigning a value to the variable name.\n",
      "\n",
      "The Python interpreter has full responsibility for determining the variable type and assigning memory."
     ]
    },
    {
     "cell_type": "code",
     "collapsed": false,
     "input": [
      "from sys import getsizeof\n",
      "\n",
      "count = 3             # count is an int\n",
      "pi = 3.14159          # pi is a float\n",
      "location = 'Clayton'  # location is a string\n",
      "ivus = [3, 5, 13]     # ivus is a list\n",
      "\n",
      "print type(count),    getsizeof(count)\n",
      "print type(pi),       getsizeof(pi)\n",
      "print type(location), getsizeof(location)\n",
      "print type(ivus),     getsizeof(ivus)"
     ],
     "language": "python",
     "metadata": {},
     "outputs": [
      {
       "output_type": "stream",
       "stream": "stdout",
       "text": [
        "<type 'int'> 24\n",
        "<type 'float'> 24\n",
        "<type 'str'> 44\n",
        "<type 'list'> 96\n"
       ]
      }
     ],
     "prompt_number": 74
    },
    {
     "cell_type": "markdown",
     "metadata": {},
     "source": [
      "Type checking is only done at run-time so operations on incompatible\n",
      "types will not be detected until you run the python program."
     ]
    },
    {
     "cell_type": "code",
     "collapsed": false,
     "input": [
      "print('ok so far...')\n",
      "count + location"
     ],
     "language": "python",
     "metadata": {},
     "outputs": [
      {
       "output_type": "stream",
       "stream": "stdout",
       "text": [
        "ok so far...\n"
       ]
      },
      {
       "ename": "TypeError",
       "evalue": "unsupported operand type(s) for +: 'int' and 'str'",
       "output_type": "pyerr",
       "traceback": [
        "\u001b[0;31m---------------------------------------------------------------------------\u001b[0m\n\u001b[0;31mTypeError\u001b[0m                                 Traceback (most recent call last)",
        "\u001b[0;32m<ipython-input-8-37a594bd1829>\u001b[0m in \u001b[0;36m<module>\u001b[0;34m()\u001b[0m\n\u001b[1;32m      1\u001b[0m \u001b[0;32mprint\u001b[0m\u001b[0;34m(\u001b[0m\u001b[0;34m'ok so far...'\u001b[0m\u001b[0;34m)\u001b[0m\u001b[0;34m\u001b[0m\u001b[0m\n\u001b[0;32m----> 2\u001b[0;31m \u001b[0mcount\u001b[0m \u001b[0;34m+\u001b[0m \u001b[0mlocation\u001b[0m\u001b[0;34m\u001b[0m\u001b[0m\n\u001b[0m",
        "\u001b[0;31mTypeError\u001b[0m: unsupported operand type(s) for +: 'int' and 'str'"
       ]
      }
     ],
     "prompt_number": 8
    },
    {
     "cell_type": "markdown",
     "metadata": {},
     "source": [
      "This can lead to bugs lurking in your program..."
     ]
    },
    {
     "cell_type": "code",
     "collapsed": false,
     "input": [
      "def its_a_trap():\n",
      "    return 'oh-oh...' + 8"
     ],
     "language": "python",
     "metadata": {},
     "outputs": [],
     "prompt_number": 103
    },
    {
     "cell_type": "heading",
     "level": 2,
     "metadata": {},
     "source": [
      "Primitives"
     ]
    },
    {
     "cell_type": "code",
     "collapsed": false,
     "input": [
      "# boolean\n",
      "yes = True\n",
      "no = False\n",
      "\n",
      "print(yes or no)\n",
      "print(yes and no)"
     ],
     "language": "python",
     "metadata": {},
     "outputs": [
      {
       "output_type": "stream",
       "stream": "stdout",
       "text": [
        "True\n",
        "False\n"
       ]
      }
     ],
     "prompt_number": 17
    },
    {
     "cell_type": "code",
     "collapsed": false,
     "input": [
      "# int\n",
      "count = 26\n",
      "from_hex = 0x1a\n",
      "from_bin = 0b11010\n",
      "from_oct = 0o32      \n",
      "\n",
      "# long\n",
      "large_number = 2 ** 100\n",
      "a_little_long = 5L\n",
      "\n",
      "print type(large_number) == long\n",
      "print( type(a_little_long)"
     ],
     "language": "python",
     "metadata": {},
     "outputs": [
      {
       "output_type": "stream",
       "stream": "stdout",
       "text": [
        "True\n",
        "<type 'long'>\n"
       ]
      }
     ],
     "prompt_number": 12
    },
    {
     "cell_type": "code",
     "collapsed": false,
     "input": [
      "# float\n",
      "distance = 3.12\n",
      "speed_of_light = 3e8"
     ],
     "language": "python",
     "metadata": {},
     "outputs": [],
     "prompt_number": 22
    },
    {
     "cell_type": "code",
     "collapsed": false,
     "input": [
      "# str, unicode\n",
      "message = 'Hello'\n",
      "a_unicode_message = u'Tick: \u2713 or \\u2717'\n",
      "a_raw_string = r'abc \\n 123'\n",
      "\n",
      "print(message)\n",
      "print(a_unicode_message)\n",
      "print(a_raw_string)"
     ],
     "language": "python",
     "metadata": {},
     "outputs": [
      {
       "output_type": "stream",
       "stream": "stdout",
       "text": [
        "Hello\n",
        "Tick: \u2713 or \u2717\n",
        "abc \\n 123\n"
       ]
      }
     ],
     "prompt_number": 6
    },
    {
     "cell_type": "code",
     "collapsed": false,
     "input": [
      "# list\n",
      "colours = ['red', 'green', 'blue']\n",
      "zero_to_nine = range(10)\n",
      "\n",
      "# tuple\n",
      "point = (2.3, 5.4, 7.2)\n",
      "\n",
      "# set\n",
      "lotto = {9, 15, 19, 26, 33, 36}"
     ],
     "language": "python",
     "metadata": {},
     "outputs": [],
     "prompt_number": 1
    },
    {
     "cell_type": "code",
     "collapsed": false,
     "input": [
      "# dict\n",
      "phone_book = {\n",
      "    'Alice': '0412126014',\n",
      "    'Bob': '0455938502',\n",
      "    'Carol': '0497176620',\n",
      "}"
     ],
     "language": "python",
     "metadata": {},
     "outputs": [],
     "prompt_number": 25
    },
    {
     "cell_type": "markdown",
     "metadata": {},
     "source": [
      "Note: lists and can be altered whereas tuples cannot."
     ]
    },
    {
     "cell_type": "code",
     "collapsed": false,
     "input": [
      "colours = ['red', 'green', 'blue']\n",
      "colours[0] = 'yellow'\n",
      "colours.append('purple')\n",
      "print colours"
     ],
     "language": "python",
     "metadata": {},
     "outputs": [
      {
       "output_type": "stream",
       "stream": "stdout",
       "text": [
        "['yellow', 'green', 'blue', 'purple']\n"
       ]
      }
     ],
     "prompt_number": 60
    },
    {
     "cell_type": "code",
     "collapsed": false,
     "input": [
      "point = (2.3, 5.4, 7.2)\n",
      "point[0] = 2.1"
     ],
     "language": "python",
     "metadata": {},
     "outputs": [
      {
       "ename": "TypeError",
       "evalue": "'tuple' object does not support item assignment",
       "output_type": "pyerr",
       "traceback": [
        "\u001b[0;31m---------------------------------------------------------------------------\u001b[0m\n\u001b[0;31mTypeError\u001b[0m                                 Traceback (most recent call last)",
        "\u001b[0;32m<ipython-input-61-3aca60d52791>\u001b[0m in \u001b[0;36m<module>\u001b[0;34m()\u001b[0m\n\u001b[1;32m      1\u001b[0m \u001b[0mpoint\u001b[0m \u001b[0;34m=\u001b[0m \u001b[0;34m(\u001b[0m\u001b[0;36m2.3\u001b[0m\u001b[0;34m,\u001b[0m \u001b[0;36m5.4\u001b[0m\u001b[0;34m,\u001b[0m \u001b[0;36m7.2\u001b[0m\u001b[0;34m)\u001b[0m\u001b[0;34m\u001b[0m\u001b[0m\n\u001b[0;32m----> 2\u001b[0;31m \u001b[0mpoint\u001b[0m\u001b[0;34m[\u001b[0m\u001b[0;36m0\u001b[0m\u001b[0;34m]\u001b[0m \u001b[0;34m=\u001b[0m \u001b[0;36m2.1\u001b[0m\u001b[0;34m\u001b[0m\u001b[0m\n\u001b[0m",
        "\u001b[0;31mTypeError\u001b[0m: 'tuple' object does not support item assignment"
       ]
      }
     ],
     "prompt_number": 61
    },
    {
     "cell_type": "markdown",
     "metadata": {},
     "source": [
      "This makes tuples slightly more memory efficient:"
     ]
    },
    {
     "cell_type": "code",
     "collapsed": false,
     "input": [
      "import sys\n",
      "\n",
      "a_list = [1,2,3]\n",
      "a_tuple = (1,2,3)\n",
      "\n",
      "print(sys.getsizeof(a_list))\n",
      "print(sys.getsizeof(a_tuple))"
     ],
     "language": "python",
     "metadata": {},
     "outputs": [
      {
       "output_type": "stream",
       "stream": "stdout",
       "text": [
        "96\n",
        "80\n"
       ]
      }
     ],
     "prompt_number": 52
    },
    {
     "cell_type": "heading",
     "level": 1,
     "metadata": {},
     "source": [
      "Operations"
     ]
    },
    {
     "cell_type": "markdown",
     "metadata": {},
     "source": [
      "Python supports all standard operations between numerical types."
     ]
    },
    {
     "cell_type": "code",
     "collapsed": false,
     "input": [
      "# Standard arithmetic\n",
      "nine = 7 + 3\n",
      "three_squared = 3 ** 2\n",
      "five_percent = 5.0 / 100.0\n",
      "\n",
      "# Bitwise operations\n",
      "a      =  0b0101001\n",
      "b      =  0b0100101\n",
      "a & b  #  0b0100001\n",
      "a | b  #  0b0101101\n",
      "a ^ b  #  0b0001100\n",
      "~ a    # -0b0101010\n",
      "a << 1 #  0b1010010\n",
      "a >> 1 #  0b0010100"
     ],
     "language": "python",
     "metadata": {},
     "outputs": [
      {
       "metadata": {},
       "output_type": "pyout",
       "prompt_number": 89,
       "text": [
        "20"
       ]
      }
     ],
     "prompt_number": 89
    },
    {
     "cell_type": "heading",
     "level": 3,
     "metadata": {},
     "source": [
      "A note about division"
     ]
    },
    {
     "cell_type": "markdown",
     "metadata": {},
     "source": [
      "* In **Python 2**, when an `int` is divided by an `int`, **integer division** will be used.\n",
      "* In **Python 3** the values will automatically be cast to floats and **floating point division** will occur.\n",
      "* If you want floating point division in Python 2 ensure one of the variables is a float.\n",
      "* If you want integer division in Python 3 use the **`//`** operator."
     ]
    },
    {
     "cell_type": "code",
     "collapsed": false,
     "input": [
      "print( 10 / 3 )\n",
      "print( float(10) / 3 )\n",
      "print( 10 // 3 ) # Will equal 3 in Python 2 *and* 3"
     ],
     "language": "python",
     "metadata": {},
     "outputs": [
      {
       "output_type": "stream",
       "stream": "stdout",
       "text": [
        "3\n",
        "3.33333333333\n",
        "3\n"
       ]
      }
     ],
     "prompt_number": 58
    },
    {
     "cell_type": "markdown",
     "metadata": {},
     "source": [
      "Boolean operations are performed with **`and`**, **`or`** and **`not`**.\n",
      "\n",
      "These allow you to write very human readable conditionals statements:"
     ]
    },
    {
     "cell_type": "code",
     "collapsed": false,
     "input": [
      "detector_ready = True\n",
      "sample_moving = False\n",
      "\n",
      "ready = detector_ready and not sample_moving"
     ],
     "language": "python",
     "metadata": {},
     "outputs": [],
     "prompt_number": 90
    },
    {
     "cell_type": "heading",
     "level": 1,
     "metadata": {},
     "source": [
      "Control Flow"
     ]
    },
    {
     "cell_type": "markdown",
     "metadata": {},
     "source": [
      "If-else statements are performed as follows:"
     ]
    },
    {
     "cell_type": "code",
     "collapsed": false,
     "input": [
      "if sample_moving:\n",
      "    print 'Waiting for sample...'\n",
      "elif not detector_ready:\n",
      "    print 'Waiting for detector...'\n",
      "else:\n",
      "    print 'Ready to go!'"
     ],
     "language": "python",
     "metadata": {},
     "outputs": [
      {
       "output_type": "stream",
       "stream": "stdout",
       "text": [
        "Ready to go!\n"
       ]
      }
     ],
     "prompt_number": 106
    },
    {
     "cell_type": "markdown",
     "metadata": {},
     "source": [
      "The start and end of a block of code is **determined by the indentation**. This can any number of spaces or tabs\n",
      "but it **must be consistent**."
     ]
    },
    {
     "cell_type": "markdown",
     "metadata": {},
     "source": [
      "<div class=\"alert alert-success\">\n",
      "Using **4 spaces** is strongly recommended as that is a widely used standard and will\n",
      "ensure your code is compatible with other libraries.\n",
      "</div>"
     ]
    },
    {
     "cell_type": "code",
     "collapsed": false,
     "input": [
      "if False:\n",
      "    do_something()\n",
      "    do_something_else()\n",
      "print 'Out of the if-block'"
     ],
     "language": "python",
     "metadata": {},
     "outputs": [
      {
       "output_type": "stream",
       "stream": "stdout",
       "text": [
        "Out of the if-block\n"
       ]
      }
     ],
     "prompt_number": 110
    },
    {
     "cell_type": "markdown",
     "metadata": {},
     "source": [
      "There is no \"switch\" statement in python but you can use a series of **`elif`** statements to achieve the same effect:"
     ]
    },
    {
     "cell_type": "code",
     "collapsed": false,
     "input": [
      "sector = 5\n",
      "\n",
      "if sector == 2:\n",
      "    beamline = 'IR'\n",
      "elif sector == 3:\n",
      "    beamline = 'MX'\n",
      "elif sector == 5:\n",
      "    beamline = 'XFM'\n",
      "elif sector == 7:\n",
      "    beamline = 'ODB'\n",
      "elif sector == 8:\n",
      "    beamline = 'IMBL'\n",
      "elif sector == 12:\n",
      "    beamline = 'XAS'\n",
      "elif sector == 13:\n",
      "    beamline = 'SWAX'\n",
      "elif sector == 14:\n",
      "    beamline = 'SX'\n",
      "else:\n",
      "    beamline = None\n",
      "\n",
      "print(beamline)"
     ],
     "language": "python",
     "metadata": {},
     "outputs": [
      {
       "output_type": "stream",
       "stream": "stdout",
       "text": [
        "XFM\n"
       ]
      }
     ],
     "prompt_number": 91
    },
    {
     "cell_type": "heading",
     "level": 2,
     "metadata": {},
     "source": [
      "Loops"
     ]
    },
    {
     "cell_type": "markdown",
     "metadata": {},
     "source": [
      "Python supports **`for`** and **`while`** loops.\n",
      "\n",
      "You will typically use a **`for`** loop to iterate over an object like a list, dictionary or file:"
     ]
    },
    {
     "cell_type": "code",
     "collapsed": false,
     "input": [
      "for ivu in ['MX', 'XFM', 'SWAX']:\n",
      "    print(ivu)"
     ],
     "language": "python",
     "metadata": {},
     "outputs": [
      {
       "output_type": "stream",
       "stream": "stdout",
       "text": [
        "MX\n",
        "XFM\n",
        "SWAX\n"
       ]
      }
     ],
     "prompt_number": 92
    },
    {
     "cell_type": "code",
     "collapsed": false,
     "input": [
      "scan_positions = {\n",
      "    'motor1': 8.0,\n",
      "    'motor2': 3.5,\n",
      "    'motor3': 0.0,\n",
      "}\n",
      "\n",
      "for motor, setpoint in scan_positions.items():\n",
      "    print 'Setting', motor, 'to', setpoint, 'mm'"
     ],
     "language": "python",
     "metadata": {},
     "outputs": [
      {
       "output_type": "stream",
       "stream": "stdout",
       "text": [
        "Setting motor3 to 0.0 mm\n",
        "Setting motor2 to 3.5 mm\n",
        "Setting motor1 to 8.0 mm\n"
       ]
      }
     ],
     "prompt_number": 93
    },
    {
     "cell_type": "markdown",
     "metadata": {},
     "source": [
      "You can exit a loop early with the **`break`** statement or immediately proceed with the next iteration of the loop with **`continue`**."
     ]
    },
    {
     "cell_type": "code",
     "collapsed": false,
     "input": [
      "possible_prime = 247\n",
      "x = 2\n",
      "while x <= possible_prime ** 0.5:\n",
      "    if possible_prime % x == 0:\n",
      "        print possible_prime, 'is divisible by', x\n",
      "        break\n",
      "    x += 1\n",
      "else:\n",
      "    print possible_prime, 'is prime'"
     ],
     "language": "python",
     "metadata": {},
     "outputs": [
      {
       "output_type": "stream",
       "stream": "stdout",
       "text": [
        "247 is divisible by 13\n"
       ]
      }
     ],
     "prompt_number": 127
    },
    {
     "cell_type": "markdown",
     "metadata": {},
     "source": [
      "Note the optional **`else`** section at the end of the **`while`** loop. This will run if the loop does not terminate\n",
      "early due to a **`break`** statement. You can also have an **`else`** at the end of a **`for`** loop."
     ]
    },
    {
     "cell_type": "markdown",
     "metadata": {},
     "source": [
      "Unlike other languages, the blocks inside a **`for`** or **`while`** loop do not get their own scope:"
     ]
    },
    {
     "cell_type": "code",
     "collapsed": false,
     "input": [
      "i = 888\n",
      "x = 999\n",
      "for i in range(5):\n",
      "    x = i ** 2\n",
      "print 'After: i = {}, x = {}'.format(i, x)"
     ],
     "language": "python",
     "metadata": {},
     "outputs": [
      {
       "output_type": "stream",
       "stream": "stdout",
       "text": [
        "After: i = 4, x = 16\n"
       ]
      }
     ],
     "prompt_number": 14
    },
    {
     "cell_type": "heading",
     "level": 1,
     "metadata": {},
     "source": [
      "Functions"
     ]
    },
    {
     "cell_type": "markdown",
     "metadata": {},
     "source": [
      "A function is declared as follows:"
     ]
    },
    {
     "cell_type": "code",
     "collapsed": false,
     "input": [
      "def move(motor, position, speed=1, timeout=10):\n",
      "    print 'Moving {} to {} at {} mm/s. Timeout: {}.'.format(motor, position, speed, timeout)\n",
      "    success = True\n",
      "    return success"
     ],
     "language": "python",
     "metadata": {},
     "outputs": [],
     "prompt_number": 57
    },
    {
     "cell_type": "markdown",
     "metadata": {},
     "source": [
      "Here we made **`speed`** and **`timeout`** optional arguments by giving them default value. The function can be called\n",
      "with or without these parameters."
     ]
    },
    {
     "cell_type": "code",
     "collapsed": false,
     "input": [
      "move('motor1', 10.0)\n",
      "move('motor2', 17.3, speed=3)\n",
      "move('motor3', 90.0, timeout=60)"
     ],
     "language": "python",
     "metadata": {},
     "outputs": [
      {
       "output_type": "stream",
       "stream": "stdout",
       "text": [
        "Moving motor1 to 10.0 at 1 mm/s. Timeout: 10.\n",
        "Moving motor2 to 17.3 at 3 mm/s. Timeout: 10.\n",
        "Moving motor3 to 90.0 at 1 mm/s. Timeout: 60.\n"
       ]
      },
      {
       "metadata": {},
       "output_type": "pyout",
       "prompt_number": 58,
       "text": [
        "True"
       ]
      }
     ],
     "prompt_number": 58
    },
    {
     "cell_type": "markdown",
     "metadata": {},
     "source": [
      "Sometimes you may want to accept a variable number of arguments. You can do this by placing a **`*`** before\n",
      "the argument name. The values passed to the function will be collected into a tuple."
     ]
    },
    {
     "cell_type": "code",
     "collapsed": false,
     "input": [
      "def polynomial_val(x, *coefficients):\n",
      "    \"\"\"Calculate: b0 + b1 * x + b2 * x^2 + ...\"\"\"\n",
      "    out = 0\n",
      "    for n, b in enumerate(coefficients):\n",
      "        out += b * x ** n\n",
      "    return out\n",
      "\n",
      "polynomial_val(3, 5, 0, 1)"
     ],
     "language": "python",
     "metadata": {},
     "outputs": [
      {
       "metadata": {},
       "output_type": "pyout",
       "prompt_number": 56,
       "text": [
        "14"
       ]
      }
     ],
     "prompt_number": 56
    },
    {
     "cell_type": "markdown",
     "metadata": {},
     "source": [
      "Keyword arguments may be grouped by prefacing the parameter name with __`**`__.\n",
      "The arguments will be captured in a dictionary."
     ]
    },
    {
     "cell_type": "code",
     "collapsed": false,
     "input": [
      "def do_something(value, **options):\n",
      "    print options\n",
      "\n",
      "do_something(7, abc=1, xyz=2)"
     ],
     "language": "python",
     "metadata": {},
     "outputs": [
      {
       "output_type": "stream",
       "stream": "stdout",
       "text": [
        "{'xyz': 2, 'abc': 1}\n"
       ]
      }
     ],
     "prompt_number": 61
    },
    {
     "cell_type": "markdown",
     "metadata": {},
     "source": [
      "Functions are objects in Python which means they can be assigned to variables and passed into other functions:"
     ]
    },
    {
     "cell_type": "code",
     "collapsed": false,
     "input": [
      "def sqrt(x):\n",
      "    return x ** 0.5\n",
      "\n",
      "operation = sqrt\n",
      "print(operation)\n",
      "\n",
      "map(sqrt, [7, 8, 2, 9])"
     ],
     "language": "python",
     "metadata": {},
     "outputs": [
      {
       "output_type": "stream",
       "stream": "stdout",
       "text": [
        "<function sqrt at 0x1021f0938>\n"
       ]
      },
      {
       "metadata": {},
       "output_type": "pyout",
       "prompt_number": 94,
       "text": [
        "[2.6457513110645907, 2.8284271247461903, 1.4142135623730951, 3.0]"
       ]
      }
     ],
     "prompt_number": 94
    },
    {
     "cell_type": "markdown",
     "metadata": {},
     "source": [
      "There is a special type of function called a lambda whose body is restricted to a single expression. The result of this\n",
      "expression is automatically returned (no need for a **`return`** statement):"
     ]
    },
    {
     "cell_type": "code",
     "collapsed": false,
     "input": [
      "distance = lambda x, y: (x**2 + y**2) ** .5\n",
      "\n",
      "print(distance(3, 4))"
     ],
     "language": "python",
     "metadata": {},
     "outputs": [
      {
       "output_type": "stream",
       "stream": "stdout",
       "text": [
        "5.0\n"
       ]
      }
     ],
     "prompt_number": 99
    },
    {
     "cell_type": "markdown",
     "metadata": {},
     "source": [
      "Lambdas are useful when another function takes a function as an argument:"
     ]
    },
    {
     "cell_type": "code",
     "collapsed": false,
     "input": [
      "data = [\n",
      "    {'name': 'x', 'value': 3},\n",
      "    {'name': 'y', 'value': 4},\n",
      "    {'name': 'z', 'value': 1},\n",
      "]\n",
      "max(data, key=lambda item: item['value'])"
     ],
     "language": "python",
     "metadata": {},
     "outputs": [
      {
       "metadata": {},
       "output_type": "pyout",
       "prompt_number": 103,
       "text": [
        "{'name': 'y', 'value': 4}"
       ]
      }
     ],
     "prompt_number": 103
    },
    {
     "cell_type": "markdown",
     "metadata": {},
     "source": [
      "<h1>Continue to [Classes](/notebooks/3.%20Classes.ipynb).</h1>"
     ]
    }
   ],
   "metadata": {}
  }
 ]
}