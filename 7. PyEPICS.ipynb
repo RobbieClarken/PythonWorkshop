{
 "metadata": {
  "name": "",
  "signature": "sha256:55b08902040cfa466669a815e6ca7b4d4330070ff54f1997984257c5373ea0fb"
 },
 "nbformat": 3,
 "nbformat_minor": 0,
 "worksheets": [
  {
   "cells": [
    {
     "cell_type": "heading",
     "level": 1,
     "metadata": {},
     "source": [
      "PyEPICS"
     ]
    },
    {
     "cell_type": "markdown",
     "metadata": {},
     "source": [
      "PyEPICS is a very well written library for interacting with PVs.\n",
      "\n",
      "One nice thing about it is the API is very intuitive. Suppose you want to do a **`caput`** or a **`caget`**:"
     ]
    },
    {
     "cell_type": "code",
     "collapsed": false,
     "input": [
      "import epics\n",
      "\n",
      "value = epics.caget('PYTHON_WORKSHOP:MOTOR_POSITION')\n",
      "print 'Before: ', value\n",
      "\n",
      "epics.caput('PYTHON_WORKSHOP:MOTOR_POSITION', value + 1)\n",
      "\n",
      "value = epics.caget('PYTHON_WORKSHOP:MOTOR_POSITION')\n",
      "print 'After: ', value"
     ],
     "language": "python",
     "metadata": {},
     "outputs": []
    },
    {
     "cell_type": "markdown",
     "metadata": {},
     "source": [
      "pyepics will even turn your waveforms into a numpy array for you:"
     ]
    },
    {
     "cell_type": "code",
     "collapsed": false,
     "input": [
      "camera_data = epics.caget('PYTHON_WORKSHOP:CAMERA_DATA')\n",
      "camera_data"
     ],
     "language": "python",
     "metadata": {},
     "outputs": []
    },
    {
     "cell_type": "markdown",
     "metadata": {},
     "source": [
      "And you can ask for a string representation of enum PVs:"
     ]
    },
    {
     "cell_type": "code",
     "collapsed": false,
     "input": [
      "print epics.caget('PYTHON_WORKSHOP:DETECTOR_STATUS', as_string=True)"
     ],
     "language": "python",
     "metadata": {},
     "outputs": []
    },
    {
     "cell_type": "markdown",
     "metadata": {},
     "source": [
      "You can also monitor values by providing **`camonitor`** with a callback function:"
     ]
    },
    {
     "cell_type": "code",
     "collapsed": false,
     "input": [
      "import sys\n",
      "\n",
      "def callback(pvname, value, **kwargs):\n",
      "    print(pvname, value)\n",
      "    sys.stdout.flush()\n",
      "    \n",
      "epics.camonitor('PYTHON_WORKSHOP:COUNTER', callback=callback)\n",
      "epics.camonitor('PYTHON_WORKSHOP:SLOW_COUNTER', callback=callback)"
     ],
     "language": "python",
     "metadata": {},
     "outputs": []
    },
    {
     "cell_type": "code",
     "collapsed": false,
     "input": [
      "epics.camonitor_clear('PYTHON_WORKSHOP:COUNTER')\n",
      "epics.camonitor_clear('PYTHON_WORKSHOP:SLOW_COUNTER')"
     ],
     "language": "python",
     "metadata": {},
     "outputs": []
    },
    {
     "cell_type": "markdown",
     "metadata": {},
     "source": [
      "What's in the __`**kwargs`__ argument? Let's capture it..."
     ]
    },
    {
     "cell_type": "code",
     "collapsed": false,
     "input": [
      "last_kwargs = None\n",
      "\n",
      "def callback(pvname, value, **kwargs):\n",
      "    global last_kwargs\n",
      "    last_kwargs = kwargs\n",
      "    epics.camonitor_clear('PYTHON_WORKSHOP:COUNTER')\n",
      "    \n",
      "epics.camonitor('PYTHON_WORKSHOP:COUNTER', callback=callback)"
     ],
     "language": "python",
     "metadata": {},
     "outputs": []
    },
    {
     "cell_type": "code",
     "collapsed": false,
     "input": [
      "last_kwargs"
     ],
     "language": "python",
     "metadata": {},
     "outputs": []
    },
    {
     "cell_type": "heading",
     "level": 1,
     "metadata": {},
     "source": [
      "The PV Class"
     ]
    },
    {
     "cell_type": "markdown",
     "metadata": {},
     "source": [
      "If you are going to performing many requests on a PV, the PyEPICS **`PV`** class can result in much cleaner code.\n",
      "\n",
      "You just create a `PV` object by supplying the PV name and then call the **`get()`** and **`put()`** methods:"
     ]
    },
    {
     "cell_type": "code",
     "collapsed": false,
     "input": [
      "from epics import PV\n",
      "\n",
      "detector_status = PV('PYTHON_WORKSHOP:DETECTOR_STATUS')\n",
      "motor_position = PV('PYTHON_WORKSHOP:MOTOR_POSITION')\n",
      "\n",
      "if detector_status.get() == 'Ready':\n",
      "    motor_position.put(2.5)"
     ],
     "language": "python",
     "metadata": {},
     "outputs": []
    },
    {
     "cell_type": "heading",
     "level": 1,
     "metadata": {},
     "source": [
      "A warning about blocking callbacks"
     ]
    },
    {
     "cell_type": "markdown",
     "metadata": {},
     "source": [
      "PyEPICS performs all callback handling on a single thread.\n",
      "\n",
      "This means if anything blocks a callback from completing, all other EPICS calls will also be blocked:"
     ]
    },
    {
     "cell_type": "code",
     "collapsed": false,
     "input": [
      "import epics\n",
      "import time\n",
      "\n",
      "def callback(pvname, value, **kwargs):\n",
      "    print('Start sleep')\n",
      "    sys.stdout.flush()\n",
      "    time.sleep(10.)\n",
      "    print('End sleep')\n",
      "    sys.stdout.flush()\n",
      "    epics.camonitor_clear('PYTHON_WORKSHOP:COUNTER')\n",
      "\n",
      "# Clear any existing monitors\n",
      "epics.camonitor_clear('PYTHON_WORKSHOP:COUNTER')\n",
      "\n",
      "epics.camonitor('PYTHON_WORKSHOP:COUNTER', callback=callback)\n",
      "\n",
      "time.sleep(2.)\n",
      "\n",
      "print('Getting motor position...')\n",
      "sys.stdout.flush()\n",
      "\n",
      "# This should be instant\n",
      "print 'Motor position:', epics.caget('PYTHON_WORKSHOP:MOTOR_POSITION', timeout=20.)"
     ],
     "language": "python",
     "metadata": {},
     "outputs": []
    },
    {
     "cell_type": "markdown",
     "metadata": {},
     "source": [
      "The same problem occurs if you try and do a **`caget`** inside the callback:"
     ]
    },
    {
     "cell_type": "code",
     "collapsed": false,
     "input": [
      "def callback(pvname, value, **kwargs):\n",
      "    \n",
      "    print('Getting motor position...')\n",
      "    sys.stdout.flush()\n",
      "    \n",
      "    print epics.caget('PYTHON_WORKSHOP:MOTOR_POSITION', timeout=3.)\n",
      "    \n",
      "    epics.camonitor_clear('PYTHON_WORKSHOP:COUNTER')\n",
      "\n",
      "# Clear any existing monitors\n",
      "epics.camonitor_clear('PYTHON_WORKSHOP:COUNTER')\n",
      "\n",
      "epics.camonitor('PYTHON_WORKSHOP:COUNTER', callback=callback)"
     ],
     "language": "python",
     "metadata": {},
     "outputs": []
    },
    {
     "cell_type": "markdown",
     "metadata": {},
     "source": [
      "The solution is to spawn a thread from the the callback function and do all the slow processing in that thread.\n",
      "\n",
      "PyEPICS has a special **`CAThread`** class which ensures you can use the existing channel access context from within your thread."
     ]
    },
    {
     "cell_type": "code",
     "collapsed": false,
     "input": [
      "import epics\n",
      "from epics.ca import CAThread\n",
      "from threading import Lock\n",
      "import sys\n",
      "import time\n",
      "\n",
      "lock = Lock()\n",
      "\n",
      "def slow_work():\n",
      "\n",
      "    lock.acquire()\n",
      "    \n",
      "    print 'Motor position:',\n",
      "    print epics.caget('PYTHON_WORKSHOP:MOTOR_POSITION')\n",
      "    \n",
      "    print('Having a nap...')\n",
      "    sys.stdout.flush()\n",
      "    \n",
      "    time.sleep(5.)\n",
      "\n",
      "    lock.release()\n",
      "    \n",
      "def callback(pvname, value, **kwargs):\n",
      "    \n",
      "    print pvname, value\n",
      "    sys.stdout.flush()\n",
      "    \n",
      "    if not lock.locked():\n",
      "        thread = CAThread(target=slow_work)\n",
      "        thread.start()\n",
      "\n",
      "# Clear any existing monitors\n",
      "epics.camonitor_clear('PYTHON_WORKSHOP:COUNTER')\n",
      "\n",
      "epics.camonitor('PYTHON_WORKSHOP:COUNTER', callback=callback)"
     ],
     "language": "python",
     "metadata": {},
     "outputs": []
    },
    {
     "cell_type": "code",
     "collapsed": false,
     "input": [
      "epics.camonitor_clear('PYTHON_WORKSHOP:COUNTER')"
     ],
     "language": "python",
     "metadata": {},
     "outputs": []
    },
    {
     "cell_type": "code",
     "collapsed": false,
     "input": [],
     "language": "python",
     "metadata": {},
     "outputs": []
    }
   ],
   "metadata": {}
  }
 ]
}